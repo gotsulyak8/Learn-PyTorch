{
  "nbformat": 4,
  "nbformat_minor": 0,
  "metadata": {
    "colab": {
      "name": "BMMC_UNet_segmentation.ipynb",
      "provenance": [],
      "collapsed_sections": [],
      "machine_shape": "hm"
    },
    "kernelspec": {
      "name": "python3",
      "display_name": "Python 3"
    },
    "accelerator": "GPU"
  },
  "cells": [
    {
      "cell_type": "code",
      "metadata": {
        "id": "Ht-2Ecyw675X",
        "colab_type": "code",
        "colab": {}
      },
      "source": [
        "import torch\n",
        "import torch.nn as nn\n",
        "import PIL.Image as Image\n",
        "import numpy as np\n",
        "import torch.optim as optim\n",
        "import torch.nn.functional as F\n",
        "from torch.utils.data import Dataset, DataLoader\n",
        "import torchvision.transforms as transforms\n",
        "from glob import glob\n",
        "import os\n",
        "from sklearn.model_selection import train_test_split\n",
        "import matplotlib.pyplot as plt\n",
        "from torchsummary import summary"
      ],
      "execution_count": 0,
      "outputs": []
    },
    {
      "cell_type": "code",
      "metadata": {
        "id": "6bhXeXqg73qR",
        "colab_type": "code",
        "colab": {}
      },
      "source": [
        "images_path = './data/'\n",
        "masks_path = './masks/'"
      ],
      "execution_count": 0,
      "outputs": []
    },
    {
      "cell_type": "code",
      "metadata": {
        "id": "1460LTLk8G1l",
        "colab_type": "code",
        "outputId": "aee25bb1-f06d-47d9-d72f-f9d675491842",
        "colab": {
          "base_uri": "https://localhost:8080/",
          "height": 34
        }
      },
      "source": [
        "data_files = glob(os.path.join(images_path+'/*tif'))\n",
        "mask_files = glob(os.path.join(masks_path+'/*tif'))\n",
        "len(data_files)"
      ],
      "execution_count": 0,
      "outputs": [
        {
          "output_type": "execute_result",
          "data": {
            "text/plain": [
              "43"
            ]
          },
          "metadata": {
            "tags": []
          },
          "execution_count": 4
        }
      ]
    },
    {
      "cell_type": "code",
      "metadata": {
        "id": "FUXniZS08ZPx",
        "colab_type": "code",
        "colab": {}
      },
      "source": [
        "class BMMCdataset(Dataset):\n",
        "    def __init__(self, image_path, target_path):   \n",
        "        self.image_path = image_path\n",
        "        self.target_path = target_path\n",
        "        self.image_files = glob(os.path.join(image_path+'/*.tif'))\n",
        "        self.mask_files = glob(os.path.join(target_path+'/*.tif'))\n",
        "        self.transforms = transforms.ToTensor()\n",
        "        self.mapping = {\n",
        "            85: 0,\n",
        "            170: 1,\n",
        "            255: 2\n",
        "        }\n",
        "    \n",
        "    def mask_to_class(self, mask):\n",
        "        for k in self.mapping:\n",
        "            mask[mask==k] = self.mapping[k]\n",
        "        return mask\n",
        "\n",
        "    def __getitem__(self, index):\n",
        "        image = Image.open(self.image_files[index])\n",
        "        mask = Image.open(self.mask_files[index])\n",
        "        t_image = self.transforms(image)\n",
        "        mask = torch.from_numpy(np.array(mask))\n",
        "        mask = self.mask_to_class(mask)\n",
        "        mask = mask.long()\n",
        "        return t_image, mask\n",
        "\n",
        "    def __len__(self): \n",
        "        return len(os.listdir(self.image_path))"
      ],
      "execution_count": 0,
      "outputs": []
    },
    {
      "cell_type": "code",
      "metadata": {
        "id": "DWbNQOQx9CoS",
        "colab_type": "code",
        "outputId": "24261ba0-97e7-4b4e-f370-9ac5bd30245a",
        "colab": {
          "base_uri": "https://localhost:8080/",
          "height": 218
        }
      },
      "source": [
        "dataset = BMMCdataset(images_path, masks_path)\n",
        "train_data, val_data = train_test_split(dataset, test_size=0.2, shuffle=True)\n",
        "\n",
        "print('Entire data:', len(dataset))\n",
        "print('Train data:', len(train_data))\n",
        "print('Val data:', len(val_data))\n",
        "\n",
        "train_loader = torch.utils.data.DataLoader(dataset, batch_size=1, shuffle=True, num_workers=2) \n",
        "test_loader = torch.utils.data.DataLoader(val_data, batch_size=1, shuffle=False, num_workers=2)\n",
        "\n",
        "for data, target in test_loader:\n",
        "    print(torch.unique(target))"
      ],
      "execution_count": 0,
      "outputs": [
        {
          "output_type": "stream",
          "text": [
            "Entire data: 43\n",
            "Train data: 34\n",
            "Val data: 9\n",
            "tensor([0, 1, 2])\n",
            "tensor([0, 1])\n",
            "tensor([0, 1, 2])\n",
            "tensor([0, 1, 2])\n",
            "tensor([0, 1, 2])\n",
            "tensor([0, 1])\n",
            "tensor([0, 1])\n",
            "tensor([0, 1, 2])\n",
            "tensor([0, 1])\n"
          ],
          "name": "stdout"
        }
      ]
    },
    {
      "cell_type": "code",
      "metadata": {
        "id": "QwfHLSpoiIc6",
        "colab_type": "code",
        "colab": {}
      },
      "source": [
        "# Unet model\n",
        "\n",
        "class BaseConv(nn.Module):\n",
        "    def __init__(self, in_channels, out_channels, kernel_size, padding, stride, droup_rate = False):\n",
        "        super(BaseConv, self).__init__()\n",
        "        self.act = nn.ReLU()\n",
        "        self.conv1 = nn.Conv2d(in_channels, out_channels, kernel_size, padding, stride)\n",
        "        self.b1 = nn.BatchNorm2d(out_channels, eps=1e-05, momentum=0.2, affine=True)\n",
        "        self.conv2 = nn.Conv2d(out_channels, out_channels, kernel_size, padding, stride)\n",
        "        self.b2 = nn.BatchNorm2d(out_channels, eps=1e-05, momentum=0.2, affine=True)\n",
        "                \n",
        "    def forward(self, x):\n",
        "        x = self.conv1(x)\n",
        "        x = self.act(self.b1(x))\n",
        "        x = self.conv2(x)\n",
        "        x = self.act(self.b2(x))\n",
        "        return x\n",
        "    \n",
        "    \n",
        "class DownConv(nn.Module):\n",
        "    def __init__(self, in_channels, out_channels, kernel_size, padding, stride):\n",
        "        super(DownConv, self).__init__()\n",
        "        self.pool1 = nn.MaxPool2d(kernel_size=2)\n",
        "        self.conv_block = BaseConv(in_channels, out_channels, kernel_size, padding, stride)\n",
        "    \n",
        "    def forward(self, x):\n",
        "        x = self.pool1(x)\n",
        "        x = self.conv_block(x)\n",
        "        return x\n",
        "\n",
        "\n",
        "class UpConv(nn.Module):\n",
        "    def __init__ (self, in_channels, in_channels_skip, out_channels, kernel_size, padding, stride):\n",
        "        super(UpConv, self).__init__()\n",
        "        self.act = nn.ReLU()\n",
        "        self.conv_trans1 = nn.ConvTranspose2d(in_channels + in_channels_skip, out_channels, kernel_size=2, padding=0, stride=2)\n",
        "        self.b3 = nn.BatchNorm2d(out_channels, eps=1e-05, momentum=0.2, affine=True)\n",
        "        self.conv3 = nn.Conv2d(in_channels=out_channels, out_channels= out_channels, kernel_size=kernel_size, padding=padding, stride=stride)\n",
        "        self.b4 = nn.BatchNorm2d(out_channels, eps=1e-05, momentum=0.2, affine=True)\n",
        "        self.conv4 = nn.Conv2d(out_channels, out_channels, kernel_size=kernel_size, padding=padding, stride=stride)\n",
        "        self.b5 = nn.BatchNorm2d(out_channels, eps=1e-05, momentum=0.2, affine=True)\n",
        "\n",
        "\n",
        "    def forward(self, x, x_skip):\n",
        "        x = torch.cat((x, x_skip), dim=1)\n",
        "        x = self.conv_trans1(x)\n",
        "        x = self.act(self.b3(x))\n",
        "        x = self.conv3(x)\n",
        "        x = self.act(self.b4(x))\n",
        "        x = self.conv4(x)\n",
        "        x = self.act(self.b5(x))\n",
        "        return x\n",
        "    \n",
        "     \n",
        "        \n",
        "class UNet(nn.Module):\n",
        "    def __init__(self, in_channels, out_channels, n_class, kernel_size, padding, stride, droup_rate = False):\n",
        "        super(UNet, self).__init__()\n",
        "        self.down1 = DownConv(in_channels, out_channels, kernel_size, padding, stride)#48     \n",
        "        self.down2 = DownConv(out_channels, 2 * out_channels, kernel_size, padding, stride)#96\n",
        "        self.down3 = DownConv(2 * out_channels, 4 * out_channels, kernel_size, padding, stride)#192\n",
        "        self.down4 = DownConv(4 * out_channels, 8 * out_channels, kernel_size, padding, stride)#384        \n",
        "        self.down5 = BaseConv(8 * out_channels, 16 * out_channels, kernel_size, padding, stride)#768\n",
        "      \n",
        "        self.up4 = UpConv(16 * out_channels, 8 * out_channels, 8 * out_channels, kernel_size, padding, stride)        \n",
        "        self.up3 = UpConv(8 * out_channels, 4 * out_channels, 4 * out_channels,  kernel_size, padding, stride)\n",
        "        self.up2 = UpConv(4 * out_channels, 2 * out_channels, 2 * out_channels, kernel_size, padding, stride)\n",
        "        self.up1 = UpConv(2 * out_channels, out_channels, out_channels, kernel_size, padding, stride)        \n",
        "        self.out = nn.Conv2d(out_channels, n_class, kernel_size, padding, stride)\n",
        "\n",
        "        \n",
        "    def forward(self, x):\n",
        "        # Encoder\n",
        "        x1 = self.down1(x)\n",
        "        x2 = self.down2(x1)\n",
        "        x3 = self.down3(x2)\n",
        "        x4 = self.down4(x3)\n",
        "        x5 = self.down5(x4)\n",
        "\n",
        "        # Decoder\n",
        "        x_up1 = self.up4(x5, x4)\n",
        "        x_up2 = self.up3(x_up1, x3)\n",
        "        x_up3 = self.up2(x_up2, x2)\n",
        "        x_up4 = self.up1(x_up3, x1)\n",
        "\n",
        "        x_out = F.log_softmax(self.out(x_up4), 1)\n",
        "        return x_out"
      ],
      "execution_count": 0,
      "outputs": []
    },
    {
      "cell_type": "code",
      "metadata": {
        "id": "Zbdc6Qn790O5",
        "colab_type": "code",
        "colab": {}
      },
      "source": [
        "def train_model(model, train_data, loss, optimizer, scheduler, n_epochs):\n",
        "  loss_history = []\n",
        "  for epoch in range(n_epochs):\n",
        "    model.train()\n",
        "    loss_accum = 0   \n",
        "    for i_step, (img, mask) in enumerate(train_data):\n",
        "      # Get the inputs\n",
        "      img, mask = img.to(device), mask.to(device)\n",
        "\n",
        "      optimizer.zero_grad()\n",
        "\n",
        "      outputs = model(img)\n",
        "      loss_value = loss(outputs, mask)\n",
        "      loss_value.backward()\n",
        "      optimizer.step()\n",
        "      scheduler.step()\n",
        "\n",
        "      loss_accum += loss_value\n",
        "    avg_loss = loss_accum / i_step\n",
        "    print('Epoch {}, Loss: {}'.format(epoch+1, avg_loss))\n",
        "  return loss_history  "
      ],
      "execution_count": 0,
      "outputs": []
    },
    {
      "cell_type": "code",
      "metadata": {
        "id": "gyOnYcT2iNJl",
        "colab_type": "code",
        "colab": {}
      },
      "source": [
        "device = torch.device(\"cuda:0\" if torch.cuda.is_available() else \"cpu\")\n",
        "\n",
        "model = UNet(in_channels=1,\n",
        "             out_channels=8,\n",
        "             n_class=3,\n",
        "             kernel_size=3,\n",
        "             padding=1,\n",
        "             stride=1)\n",
        "\n",
        "model = model.to(device)\n",
        "loss = nn.NLLLoss()\n",
        "optimizer = optim.Adam(model.parameters(), lr=1e-3, weight_decay=1e-4)\n",
        "scheduler = torch.optim.lr_scheduler.CosineAnnealingLR(optimizer, T_max=5)"
      ],
      "execution_count": 0,
      "outputs": []
    },
    {
      "cell_type": "code",
      "metadata": {
        "id": "jkIC9noeAP-z",
        "colab_type": "code",
        "outputId": "38e1fedf-5e08-47cc-d68a-12dd50517196",
        "colab": {
          "base_uri": "https://localhost:8080/",
          "height": 353
        }
      },
      "source": [
        "loss_history = train_model(model, train_loader, loss, optimizer, scheduler, 20)"
      ],
      "execution_count": 0,
      "outputs": [
        {
          "output_type": "stream",
          "text": [
            "Epoch 1, Loss: 0.8053284883499146\n",
            "Epoch 2, Loss: 0.5864547491073608\n",
            "Epoch 3, Loss: 0.5587090253829956\n",
            "Epoch 4, Loss: 0.535414457321167\n",
            "Epoch 5, Loss: 0.5115352869033813\n",
            "Epoch 6, Loss: 0.5034447908401489\n",
            "Epoch 7, Loss: 0.4630124270915985\n",
            "Epoch 8, Loss: 0.458542138338089\n",
            "Epoch 9, Loss: 0.4482940137386322\n",
            "Epoch 10, Loss: 0.433280348777771\n",
            "Epoch 11, Loss: 0.4326827824115753\n",
            "Epoch 12, Loss: 0.41653960943222046\n",
            "Epoch 13, Loss: 0.42706039547920227\n",
            "Epoch 14, Loss: 0.4152534604072571\n",
            "Epoch 15, Loss: 0.4107142388820648\n",
            "Epoch 16, Loss: 0.41281360387802124\n",
            "Epoch 17, Loss: 0.40505364537239075\n",
            "Epoch 18, Loss: 0.41374289989471436\n",
            "Epoch 19, Loss: 0.41326382756233215\n",
            "Epoch 20, Loss: 0.4126422703266144\n"
          ],
          "name": "stdout"
        }
      ]
    },
    {
      "cell_type": "code",
      "metadata": {
        "id": "DPzjR6BVw7HV",
        "colab_type": "code",
        "colab": {}
      },
      "source": [
        "outputs = []\n",
        "for i, (x, y) in enumerate(test_loader):\n",
        "  x = x.to(device)\n",
        "  output = model(x)\n",
        "  outputs.append(output)"
      ],
      "execution_count": 0,
      "outputs": []
    },
    {
      "cell_type": "code",
      "metadata": {
        "id": "eQdRBcNXCnmb",
        "colab_type": "code",
        "outputId": "a80307ea-27a7-45e6-fac9-53883c584ae1",
        "colab": {
          "base_uri": "https://localhost:8080/",
          "height": 34
        }
      },
      "source": [
        "prob = torch.exp(outputs[5])\n",
        "prob.shape"
      ],
      "execution_count": 0,
      "outputs": [
        {
          "output_type": "execute_result",
          "data": {
            "text/plain": [
              "torch.Size([1, 3, 1024, 1024])"
            ]
          },
          "metadata": {
            "tags": []
          },
          "execution_count": 13
        }
      ]
    },
    {
      "cell_type": "code",
      "metadata": {
        "id": "e5c35SPucdc2",
        "colab_type": "code",
        "outputId": "2b5c58ff-8903-44f9-930c-16fd39e82c64",
        "colab": {
          "base_uri": "https://localhost:8080/",
          "height": 181
        }
      },
      "source": [
        "# predictions for every class\n",
        "from torchvision.utils import make_grid\n",
        "\n",
        "pred_grid = make_grid(prob.permute(1, 0, 2, 3), nrow=4)\n",
        "pred_grid = pred_grid.detach()\n",
        "pred_grid = pred_grid.to('cpu').permute(1, 2, 0).numpy()\n",
        "plt.imshow(pred_grid)"
      ],
      "execution_count": 0,
      "outputs": [
        {
          "output_type": "execute_result",
          "data": {
            "text/plain": [
              "<matplotlib.image.AxesImage at 0x7f2dd18bea20>"
            ]
          },
          "metadata": {
            "tags": []
          },
          "execution_count": 14
        },
        {
          "output_type": "display_data",
          "data": {
            "image/png": "[encoded data removed]",
            "text/plain": [
              "<Figure size 432x288 with 1 Axes>"
            ]
          },
          "metadata": {
            "tags": [],
            "needs_background": "light"
          }
        }
      ]
    }
  ]
}