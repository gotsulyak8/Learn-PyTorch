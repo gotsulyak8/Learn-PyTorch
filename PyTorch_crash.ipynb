{
  "nbformat": 4,
  "nbformat_minor": 0,
  "metadata": {
    "colab": {
      "name": "PyTorch crash.ipynb",
      "provenance": []
    },
    "kernelspec": {
      "name": "python3",
      "display_name": "Python 3"
    },
    "accelerator": "GPU"
  },
  "cells": [
    {
      "cell_type": "code",
      "metadata": {
        "id": "Gv-4JYs80A7w",
        "colab_type": "code",
        "colab": {}
      },
      "source": [
        "from __future__ import print_function\n",
        "import torch\n",
        "import numpy as np"
      ],
      "execution_count": 0,
      "outputs": []
    },
    {
      "cell_type": "code",
      "metadata": {
        "id": "rVu6Ozpc0M_k",
        "colab_type": "code",
        "outputId": "b9188f35-af20-4115-f970-34acd3ed5f50",
        "colab": {
          "base_uri": "https://localhost:8080/",
          "height": 101
        }
      },
      "source": [
        "x = torch.empty(5, 3)\n",
        "print(x)"
      ],
      "execution_count": 0,
      "outputs": [
        {
          "output_type": "stream",
          "text": [
            "tensor([[8.6509e-36, 0.0000e+00, 4.4842e-44],\n",
            "        [0.0000e+00,        nan, 0.0000e+00],\n",
            "        [3.2871e+21, 1.0432e+21, 3.2770e-09],\n",
            "        [1.6853e+22, 3.4332e-06, 5.4663e+22],\n",
            "        [4.2484e-05, 5.3129e-08, 5.0948e-14]])\n"
          ],
          "name": "stdout"
        }
      ]
    },
    {
      "cell_type": "code",
      "metadata": {
        "id": "c2wH5f5F0NHN",
        "colab_type": "code",
        "outputId": "9a56a810-588d-41c3-9ca4-0ea4a428405c",
        "colab": {
          "base_uri": "https://localhost:8080/",
          "height": 101
        }
      },
      "source": [
        "x = torch.rand(5, 3)\n",
        "print(x)"
      ],
      "execution_count": 0,
      "outputs": [
        {
          "output_type": "stream",
          "text": [
            "tensor([[0.6780, 0.4452, 0.6599],\n",
            "        [0.9402, 0.5733, 0.5576],\n",
            "        [0.6264, 0.0181, 0.4673],\n",
            "        [0.1059, 0.1337, 0.2504],\n",
            "        [0.6230, 0.4840, 0.9361]])\n"
          ],
          "name": "stdout"
        }
      ]
    },
    {
      "cell_type": "code",
      "metadata": {
        "id": "Z7iERaAX0NMO",
        "colab_type": "code",
        "outputId": "5452831a-94b4-4ac0-a944-8b801e2d0f14",
        "colab": {
          "base_uri": "https://localhost:8080/",
          "height": 101
        }
      },
      "source": [
        "x = torch.zeros(5, 3, dtype=torch.long)\n",
        "print(x)"
      ],
      "execution_count": 0,
      "outputs": [
        {
          "output_type": "stream",
          "text": [
            "tensor([[0, 0, 0],\n",
            "        [0, 0, 0],\n",
            "        [0, 0, 0],\n",
            "        [0, 0, 0],\n",
            "        [0, 0, 0]])\n"
          ],
          "name": "stdout"
        }
      ]
    },
    {
      "cell_type": "code",
      "metadata": {
        "id": "tsTd70Qd0NO8",
        "colab_type": "code",
        "outputId": "50c471ad-fd19-4fe9-cfee-8f9541fed9b4",
        "colab": {
          "base_uri": "https://localhost:8080/",
          "height": 34
        }
      },
      "source": [
        "x = torch.tensor([23, 0.2])\n",
        "print(x)"
      ],
      "execution_count": 0,
      "outputs": [
        {
          "output_type": "stream",
          "text": [
            "tensor([23.0000,  0.2000])\n"
          ],
          "name": "stdout"
        }
      ]
    },
    {
      "cell_type": "code",
      "metadata": {
        "id": "0yJpmU180NTb",
        "colab_type": "code",
        "outputId": "5ceb9cd3-e320-48e6-ba15-4eec0149bcd1",
        "colab": {
          "base_uri": "https://localhost:8080/",
          "height": 202
        }
      },
      "source": [
        "x = torch.ones(5, 5, dtype=torch.double)\n",
        "new_x = torch.randn_like(x, dtype=torch.double)\n",
        "print(x)\n",
        "print(new_x)\n",
        "print(x.size())"
      ],
      "execution_count": 0,
      "outputs": [
        {
          "output_type": "stream",
          "text": [
            "tensor([[1., 1., 1., 1., 1.],\n",
            "        [1., 1., 1., 1., 1.],\n",
            "        [1., 1., 1., 1., 1.],\n",
            "        [1., 1., 1., 1., 1.],\n",
            "        [1., 1., 1., 1., 1.]], dtype=torch.float64)\n",
            "tensor([[-1.4323,  0.8244,  0.0683, -2.4623, -0.8888],\n",
            "        [ 0.2236, -1.1728,  1.4209,  0.3550,  0.7139],\n",
            "        [ 0.0782, -0.5726, -1.0972, -0.7044, -1.2957],\n",
            "        [-0.2818, -0.9042,  0.5134,  0.9007,  0.8180],\n",
            "        [ 0.9679, -2.0548, -0.8333,  0.1178, -1.6840]], dtype=torch.float64)\n",
            "torch.Size([5, 5])\n"
          ],
          "name": "stdout"
        }
      ]
    },
    {
      "cell_type": "code",
      "metadata": {
        "id": "0XLVacUo0NX2",
        "colab_type": "code",
        "outputId": "7ef91132-c919-4dda-b76b-2425f45a9eab",
        "colab": {
          "base_uri": "https://localhost:8080/",
          "height": 101
        }
      },
      "source": [
        "y = torch.rand(5, 5)\n",
        "print(y)"
      ],
      "execution_count": 0,
      "outputs": [
        {
          "output_type": "stream",
          "text": [
            "tensor([[0.1750, 0.3612, 0.7521, 0.3048, 0.5725],\n",
            "        [0.6291, 0.9850, 0.4813, 0.7829, 0.2854],\n",
            "        [0.6245, 0.1175, 0.8025, 0.6705, 0.9874],\n",
            "        [0.9030, 0.2520, 0.3672, 0.3303, 0.3417],\n",
            "        [0.0697, 0.5072, 0.9346, 0.1181, 0.1441]])\n"
          ],
          "name": "stdout"
        }
      ]
    },
    {
      "cell_type": "code",
      "metadata": {
        "id": "LBQilWpf0Nco",
        "colab_type": "code",
        "outputId": "031f18d7-3cb8-4d65-b26e-f776c8c5343a",
        "colab": {
          "base_uri": "https://localhost:8080/",
          "height": 101
        }
      },
      "source": [
        "z = new_x + y\n",
        "print(z)"
      ],
      "execution_count": 0,
      "outputs": [
        {
          "output_type": "stream",
          "text": [
            "tensor([[-1.2573,  1.1856,  0.8204, -2.1575, -0.3163],\n",
            "        [ 0.8527, -0.1878,  1.9022,  1.1380,  0.9993],\n",
            "        [ 0.7027, -0.4551, -0.2948, -0.0339, -0.3083],\n",
            "        [ 0.6211, -0.6522,  0.8807,  1.2309,  1.1596],\n",
            "        [ 1.0376, -1.5475,  0.1013,  0.2359, -1.5399]], dtype=torch.float64)\n"
          ],
          "name": "stdout"
        }
      ]
    },
    {
      "cell_type": "code",
      "metadata": {
        "id": "Rvaf_46P0Nh_",
        "colab_type": "code",
        "outputId": "831677c1-ee55-438e-d26e-d96e1da176a9",
        "colab": {
          "base_uri": "https://localhost:8080/",
          "height": 101
        }
      },
      "source": [
        "z = torch.add(new_x, y)\n",
        "print(z)"
      ],
      "execution_count": 0,
      "outputs": [
        {
          "output_type": "stream",
          "text": [
            "tensor([[-1.2573,  1.1856,  0.8204, -2.1575, -0.3163],\n",
            "        [ 0.8527, -0.1878,  1.9022,  1.1380,  0.9993],\n",
            "        [ 0.7027, -0.4551, -0.2948, -0.0339, -0.3083],\n",
            "        [ 0.6211, -0.6522,  0.8807,  1.2309,  1.1596],\n",
            "        [ 1.0376, -1.5475,  0.1013,  0.2359, -1.5399]], dtype=torch.float64)\n"
          ],
          "name": "stdout"
        }
      ]
    },
    {
      "cell_type": "code",
      "metadata": {
        "id": "G2pE7SXM0NfU",
        "colab_type": "code",
        "outputId": "9e274b50-f463-4e71-9955-5838827fb4e8",
        "colab": {
          "base_uri": "https://localhost:8080/",
          "height": 101
        }
      },
      "source": [
        "result = torch.zeros(5, 5)\n",
        "torch.add(new_x, y, out=result)\n",
        "print(result)"
      ],
      "execution_count": 0,
      "outputs": [
        {
          "output_type": "stream",
          "text": [
            "tensor([[-1.2573,  1.1856,  0.8204, -2.1575, -0.3163],\n",
            "        [ 0.8527, -0.1878,  1.9022,  1.1380,  0.9993],\n",
            "        [ 0.7027, -0.4551, -0.2948, -0.0339, -0.3083],\n",
            "        [ 0.6211, -0.6522,  0.8807,  1.2309,  1.1596],\n",
            "        [ 1.0376, -1.5475,  0.1013,  0.2359, -1.5399]])\n"
          ],
          "name": "stdout"
        }
      ]
    },
    {
      "cell_type": "code",
      "metadata": {
        "id": "OETiXv3R0NaE",
        "colab_type": "code",
        "outputId": "606f0f98-0fec-4f41-e351-3b781adcf19e",
        "colab": {
          "base_uri": "https://localhost:8080/",
          "height": 101
        }
      },
      "source": [
        "z = new_x.add_(y) # Any operation that mutates a tensor in-place is post-fixed with an _. For example: x.copy_(y), x.t_(), will change x\n",
        "print(z)"
      ],
      "execution_count": 0,
      "outputs": [
        {
          "output_type": "stream",
          "text": [
            "tensor([[-0.0324,  3.7139,  6.0848, -0.0239,  3.6912],\n",
            "        [ 5.2564,  6.7071,  5.2715,  6.6186,  2.9970],\n",
            "        [ 5.0744,  0.3671,  5.3224,  4.6597,  6.6034],\n",
            "        [ 6.9419,  1.1117,  3.4514,  3.5429,  3.5512],\n",
            "        [ 1.5258,  2.0032,  6.6435,  1.0629, -0.5310]], dtype=torch.float64)\n"
          ],
          "name": "stdout"
        }
      ]
    },
    {
      "cell_type": "code",
      "metadata": {
        "id": "E8W3Zu3J0NVl",
        "colab_type": "code",
        "outputId": "6cfde82d-e9a0-4275-e104-02ed134a87d2",
        "colab": {
          "base_uri": "https://localhost:8080/",
          "height": 118
        }
      },
      "source": [
        "print(z)\n",
        "print(z[:, 1])"
      ],
      "execution_count": 0,
      "outputs": [
        {
          "output_type": "stream",
          "text": [
            "tensor([[-0.0324,  3.7139,  6.0848, -0.0239,  3.6912],\n",
            "        [ 5.2564,  6.7071,  5.2715,  6.6186,  2.9970],\n",
            "        [ 5.0744,  0.3671,  5.3224,  4.6597,  6.6034],\n",
            "        [ 6.9419,  1.1117,  3.4514,  3.5429,  3.5512],\n",
            "        [ 1.5258,  2.0032,  6.6435,  1.0629, -0.5310]], dtype=torch.float64)\n",
            "tensor([3.7139, 6.7071, 0.3671, 1.1117, 2.0032], dtype=torch.float64)\n"
          ],
          "name": "stdout"
        }
      ]
    },
    {
      "cell_type": "code",
      "metadata": {
        "id": "fkjYVgNe0NQz",
        "colab_type": "code",
        "outputId": "30a92cda-a070-4347-d2e1-76ca831a0106",
        "colab": {
          "base_uri": "https://localhost:8080/",
          "height": 454
        }
      },
      "source": [
        "# Resizing\n",
        "\n",
        "x = torch.rand(5, 10)\n",
        "y = x.view(50)\n",
        "z = y.view(-1, 5)\n",
        "print(x, x.size())\n",
        "print(y, y.size())\n",
        "print(z, z.size())"
      ],
      "execution_count": 0,
      "outputs": [
        {
          "output_type": "stream",
          "text": [
            "tensor([[0.9745, 0.0969, 0.0011, 0.3037, 0.8847, 0.6630, 0.7960, 0.5647, 0.0935,\n",
            "         0.6508],\n",
            "        [0.1278, 0.0907, 0.0285, 0.4513, 0.6877, 0.7985, 0.9659, 0.9669, 0.0862,\n",
            "         0.9082],\n",
            "        [0.7119, 0.3539, 0.5781, 0.3203, 0.7330, 0.5703, 0.4610, 0.6580, 0.0683,\n",
            "         0.9140],\n",
            "        [0.5042, 0.5872, 0.6981, 0.6604, 0.3612, 0.4727, 0.8910, 0.1055, 0.7018,\n",
            "         0.3327],\n",
            "        [0.9556, 0.6366, 0.5753, 0.1341, 0.4373, 0.8265, 0.6931, 0.4221, 0.8277,\n",
            "         0.9298]]) torch.Size([5, 10])\n",
            "tensor([0.9745, 0.0969, 0.0011, 0.3037, 0.8847, 0.6630, 0.7960, 0.5647, 0.0935,\n",
            "        0.6508, 0.1278, 0.0907, 0.0285, 0.4513, 0.6877, 0.7985, 0.9659, 0.9669,\n",
            "        0.0862, 0.9082, 0.7119, 0.3539, 0.5781, 0.3203, 0.7330, 0.5703, 0.4610,\n",
            "        0.6580, 0.0683, 0.9140, 0.5042, 0.5872, 0.6981, 0.6604, 0.3612, 0.4727,\n",
            "        0.8910, 0.1055, 0.7018, 0.3327, 0.9556, 0.6366, 0.5753, 0.1341, 0.4373,\n",
            "        0.8265, 0.6931, 0.4221, 0.8277, 0.9298]) torch.Size([50])\n",
            "tensor([[0.9745, 0.0969, 0.0011, 0.3037, 0.8847],\n",
            "        [0.6630, 0.7960, 0.5647, 0.0935, 0.6508],\n",
            "        [0.1278, 0.0907, 0.0285, 0.4513, 0.6877],\n",
            "        [0.7985, 0.9659, 0.9669, 0.0862, 0.9082],\n",
            "        [0.7119, 0.3539, 0.5781, 0.3203, 0.7330],\n",
            "        [0.5703, 0.4610, 0.6580, 0.0683, 0.9140],\n",
            "        [0.5042, 0.5872, 0.6981, 0.6604, 0.3612],\n",
            "        [0.4727, 0.8910, 0.1055, 0.7018, 0.3327],\n",
            "        [0.9556, 0.6366, 0.5753, 0.1341, 0.4373],\n",
            "        [0.8265, 0.6931, 0.4221, 0.8277, 0.9298]]) torch.Size([10, 5])\n"
          ],
          "name": "stdout"
        }
      ]
    },
    {
      "cell_type": "code",
      "metadata": {
        "id": "G84LrQGN4F_g",
        "colab_type": "code",
        "outputId": "d4a00440-7f23-4628-8155-b1ba4cbcc124",
        "colab": {
          "base_uri": "https://localhost:8080/",
          "height": 50
        }
      },
      "source": [
        "x = torch.randn(1)\n",
        "print(x)\n",
        "print(x.item())"
      ],
      "execution_count": 0,
      "outputs": [
        {
          "output_type": "stream",
          "text": [
            "tensor([-1.6110])\n",
            "-1.6110203266143799\n"
          ],
          "name": "stdout"
        }
      ]
    },
    {
      "cell_type": "code",
      "metadata": {
        "id": "nlEKqChp4tI9",
        "colab_type": "code",
        "outputId": "74c1b1cb-6927-44a3-f975-c0235508bd78",
        "colab": {
          "base_uri": "https://localhost:8080/",
          "height": 101
        }
      },
      "source": [
        "a = torch.ones(5, 5)\n",
        "print(a)"
      ],
      "execution_count": 0,
      "outputs": [
        {
          "output_type": "stream",
          "text": [
            "tensor([[1., 1., 1., 1., 1.],\n",
            "        [1., 1., 1., 1., 1.],\n",
            "        [1., 1., 1., 1., 1.],\n",
            "        [1., 1., 1., 1., 1.],\n",
            "        [1., 1., 1., 1., 1.]])\n"
          ],
          "name": "stdout"
        }
      ]
    },
    {
      "cell_type": "code",
      "metadata": {
        "id": "HwUKYfqR40RS",
        "colab_type": "code",
        "outputId": "b002fb03-3aff-4a8d-e158-e7f3d3becd57",
        "colab": {
          "base_uri": "https://localhost:8080/",
          "height": 101
        }
      },
      "source": [
        "b = a.numpy()\n",
        "print(b)"
      ],
      "execution_count": 0,
      "outputs": [
        {
          "output_type": "stream",
          "text": [
            "[[1. 1. 1. 1. 1.]\n",
            " [1. 1. 1. 1. 1.]\n",
            " [1. 1. 1. 1. 1.]\n",
            " [1. 1. 1. 1. 1.]\n",
            " [1. 1. 1. 1. 1.]]\n"
          ],
          "name": "stdout"
        }
      ]
    },
    {
      "cell_type": "code",
      "metadata": {
        "id": "2ClkjxHV49_O",
        "colab_type": "code",
        "outputId": "5126449d-d626-4fad-b9e3-36d5e9db3be6",
        "colab": {
          "base_uri": "https://localhost:8080/",
          "height": 101
        }
      },
      "source": [
        "c = a + b # numpy array become  tensor\n",
        "print(c)"
      ],
      "execution_count": 0,
      "outputs": [
        {
          "output_type": "stream",
          "text": [
            "tensor([[2., 2., 2., 2., 2.],\n",
            "        [2., 2., 2., 2., 2.],\n",
            "        [2., 2., 2., 2., 2.],\n",
            "        [2., 2., 2., 2., 2.],\n",
            "        [2., 2., 2., 2., 2.]])\n"
          ],
          "name": "stdout"
        }
      ]
    },
    {
      "cell_type": "code",
      "metadata": {
        "id": "MdnU4QJO5MGw",
        "colab_type": "code",
        "outputId": "06c8697d-0cad-42fc-8265-e27217c604a4",
        "colab": {
          "base_uri": "https://localhost:8080/",
          "height": 101
        }
      },
      "source": [
        "b_t = torch.from_numpy(b)\n",
        "print(b_t)"
      ],
      "execution_count": 0,
      "outputs": [
        {
          "output_type": "stream",
          "text": [
            "tensor([[1., 1., 1., 1., 1.],\n",
            "        [1., 1., 1., 1., 1.],\n",
            "        [1., 1., 1., 1., 1.],\n",
            "        [1., 1., 1., 1., 1.],\n",
            "        [1., 1., 1., 1., 1.]])\n"
          ],
          "name": "stdout"
        }
      ]
    },
    {
      "cell_type": "code",
      "metadata": {
        "id": "ZkjtH7Us-FTh",
        "colab_type": "code",
        "outputId": "4190a916-9ea5-4c7a-fbc0-6528313eae86",
        "colab": {
          "base_uri": "https://localhost:8080/",
          "height": 34
        }
      },
      "source": [
        "torch.cuda.is_available()"
      ],
      "execution_count": 0,
      "outputs": [
        {
          "output_type": "execute_result",
          "data": {
            "text/plain": [
              "True"
            ]
          },
          "metadata": {
            "tags": []
          },
          "execution_count": 49
        }
      ]
    },
    {
      "cell_type": "code",
      "metadata": {
        "id": "bxIrHCa9-MdZ",
        "colab_type": "code",
        "outputId": "1bad2972-d814-4599-d427-9f40cfcf75f0",
        "colab": {
          "base_uri": "https://localhost:8080/",
          "height": 118
        }
      },
      "source": [
        "device = torch.device('cuda')\n",
        "y = y.to(device)\n",
        "print(y)"
      ],
      "execution_count": 0,
      "outputs": [
        {
          "output_type": "stream",
          "text": [
            "tensor([0.9745, 0.0969, 0.0011, 0.3037, 0.8847, 0.6630, 0.7960, 0.5647, 0.0935,\n",
            "        0.6508, 0.1278, 0.0907, 0.0285, 0.4513, 0.6877, 0.7985, 0.9659, 0.9669,\n",
            "        0.0862, 0.9082, 0.7119, 0.3539, 0.5781, 0.3203, 0.7330, 0.5703, 0.4610,\n",
            "        0.6580, 0.0683, 0.9140, 0.5042, 0.5872, 0.6981, 0.6604, 0.3612, 0.4727,\n",
            "        0.8910, 0.1055, 0.7018, 0.3327, 0.9556, 0.6366, 0.5753, 0.1341, 0.4373,\n",
            "        0.8265, 0.6931, 0.4221, 0.8277, 0.9298], device='cuda:0')\n"
          ],
          "name": "stdout"
        }
      ]
    }
  ]
}