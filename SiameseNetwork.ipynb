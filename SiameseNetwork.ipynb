{
  "nbformat": 4,
  "nbformat_minor": 0,
  "metadata": {
    "colab": {
      "name": "SiameseNetwork.ipynb",
      "provenance": []
    },
    "kernelspec": {
      "name": "python3",
      "display_name": "Python 3"
    },
    "accelerator": "GPU"
  },
  "cells": [
    {
      "cell_type": "code",
      "metadata": {
        "id": "cPo5zDr7eRL1",
        "colab_type": "code",
        "colab": {}
      },
      "source": [
        "#Import libraries\n",
        "\n",
        "import numpy as np\n",
        "import matplotlib.pyplot as plt\n",
        "\n",
        "import torch\n",
        "import torch.nn as nn\n",
        "\n",
        "from tensorflow.keras.preprocessing import image\n",
        "\n",
        "import os\n",
        "import cv2\n",
        "from datetime import datetime\n",
        "from glob import glob\n",
        "from collections import Counter"
      ],
      "execution_count": 0,
      "outputs": []
    },
    {
      "cell_type": "markdown",
      "metadata": {
        "id": "Tcr88mLlfjD5",
        "colab_type": "text"
      },
      "source": [
        "# Plan:\n",
        "1. Load data\n",
        "2. Do train - test split\n",
        "3. Convert images to pairs \n",
        "4. Generate Generators\n",
        "4. Create model\n",
        "5. Create loss\n",
        "6. Evaluate model\n"
      ]
    },
    {
      "cell_type": "markdown",
      "metadata": {
        "id": "jrJmtPPygElW",
        "colab_type": "text"
      },
      "source": [
        "# 1. Loading the data"
      ]
    },
    {
      "cell_type": "code",
      "metadata": {
        "id": "f7pvyP_EgLpw",
        "colab_type": "code",
        "outputId": "1f0623dc-123a-43dd-e8fa-029f59635939",
        "colab": {
          "base_uri": "https://localhost:8080/",
          "height": 52
        }
      },
      "source": [
        "# Load data from http://vision.ucsd.edu/content/yale-face-database\n",
        "!wget -nc 'http://vision.ucsd.edu/datasets/yale_face_dataset_original/yalefaces.zip'"
      ],
      "execution_count": 2,
      "outputs": [
        {
          "output_type": "stream",
          "text": [
            "File ‘yalefaces.zip’ already there; not retrieving.\n",
            "\n"
          ],
          "name": "stdout"
        }
      ]
    },
    {
      "cell_type": "code",
      "metadata": {
        "id": "vplzkuCthF_T",
        "colab_type": "code",
        "colab": {
          "base_uri": "https://localhost:8080/",
          "height": 1000
        },
        "outputId": "33635c46-6795-47f4-ee73-2914e1119074"
      },
      "source": [
        "# unzip data\n",
        "!unzip yalefaces.zip"
      ],
      "execution_count": 3,
      "outputs": [
        {
          "output_type": "stream",
          "text": [
            "Archive:  yalefaces.zip\n",
            "replace yalefaces/Readme.txt? [y]es, [n]o, [A]ll, [N]one, [r]ename: A\n",
            "  inflating: yalefaces/Readme.txt    \n",
            "  inflating: __MACOSX/yalefaces/._Readme.txt  \n",
            "  inflating: yalefaces/subject01.gif  \n",
            "  inflating: yalefaces/subject01.glasses  \n",
            "  inflating: yalefaces/subject01.glasses.gif  \n",
            "  inflating: yalefaces/subject01.happy  \n",
            "  inflating: yalefaces/subject01.leftlight  \n",
            "  inflating: yalefaces/subject01.noglasses  \n",
            "  inflating: yalefaces/subject01.normal  \n",
            "  inflating: yalefaces/subject01.rightlight  \n",
            "  inflating: yalefaces/subject01.sad  \n",
            "  inflating: yalefaces/subject01.sleepy  \n",
            "  inflating: yalefaces/subject01.surprised  \n",
            "  inflating: yalefaces/subject01.wink  \n",
            "  inflating: yalefaces/subject02.centerlight  \n",
            "  inflating: yalefaces/subject02.glasses  \n",
            "  inflating: yalefaces/subject02.happy  \n",
            "  inflating: yalefaces/subject02.leftlight  \n",
            "  inflating: yalefaces/subject02.noglasses  \n",
            "  inflating: yalefaces/subject02.normal  \n",
            "  inflating: yalefaces/subject02.rightlight  \n",
            "  inflating: yalefaces/subject02.sad  \n",
            "  inflating: yalefaces/subject02.sleepy  \n",
            "  inflating: yalefaces/subject02.surprised  \n",
            "  inflating: yalefaces/subject02.wink  \n",
            "  inflating: yalefaces/subject03.centerlight  \n",
            "  inflating: yalefaces/subject03.glasses  \n",
            "  inflating: yalefaces/subject03.happy  \n",
            "  inflating: yalefaces/subject03.leftlight  \n",
            "  inflating: yalefaces/subject03.noglasses  \n",
            "  inflating: yalefaces/subject03.normal  \n",
            "  inflating: yalefaces/subject03.rightlight  \n",
            "  inflating: yalefaces/subject03.sad  \n",
            "  inflating: yalefaces/subject03.sleepy  \n",
            "  inflating: yalefaces/subject03.surprised  \n",
            "  inflating: yalefaces/subject03.wink  \n",
            "  inflating: yalefaces/subject04.centerlight  \n",
            "  inflating: yalefaces/subject04.glasses  \n",
            "  inflating: yalefaces/subject04.happy  \n",
            "  inflating: yalefaces/subject04.leftlight  \n",
            "  inflating: yalefaces/subject04.noglasses  \n",
            "  inflating: yalefaces/subject04.normal  \n",
            "  inflating: yalefaces/subject04.rightlight  \n",
            "  inflating: yalefaces/subject04.sad  \n",
            "  inflating: yalefaces/subject04.sleepy  \n",
            "  inflating: yalefaces/subject04.surprised  \n",
            "  inflating: yalefaces/subject04.wink  \n",
            "  inflating: yalefaces/subject05.centerlight  \n",
            "  inflating: yalefaces/subject05.glasses  \n",
            "  inflating: yalefaces/subject05.happy  \n",
            "  inflating: yalefaces/subject05.leftlight  \n",
            "  inflating: yalefaces/subject05.noglasses  \n",
            "  inflating: yalefaces/subject05.normal  \n",
            "  inflating: yalefaces/subject05.rightlight  \n",
            "  inflating: yalefaces/subject05.sad  \n",
            "  inflating: yalefaces/subject05.sleepy  \n",
            "  inflating: yalefaces/subject05.surprised  \n",
            "  inflating: yalefaces/subject05.wink  \n",
            "  inflating: yalefaces/subject06.centerlight  \n",
            "  inflating: yalefaces/subject06.glasses  \n",
            "  inflating: yalefaces/subject06.happy  \n",
            "  inflating: yalefaces/subject06.leftlight  \n",
            "  inflating: yalefaces/subject06.noglasses  \n",
            "  inflating: yalefaces/subject06.normal  \n",
            "  inflating: yalefaces/subject06.rightlight  \n",
            "  inflating: yalefaces/subject06.sad  \n",
            "  inflating: yalefaces/subject06.sleepy  \n",
            "  inflating: yalefaces/subject06.surprised  \n",
            "  inflating: yalefaces/subject06.wink  \n",
            "  inflating: yalefaces/subject07.centerlight  \n",
            "  inflating: yalefaces/subject07.glasses  \n",
            "  inflating: yalefaces/subject07.happy  \n",
            "  inflating: yalefaces/subject07.leftlight  \n",
            "  inflating: yalefaces/subject07.noglasses  \n",
            "  inflating: yalefaces/subject07.normal  \n",
            "  inflating: yalefaces/subject07.rightlight  \n",
            "  inflating: yalefaces/subject07.sad  \n",
            "  inflating: yalefaces/subject07.sleepy  \n",
            "  inflating: yalefaces/subject07.surprised  \n",
            "  inflating: yalefaces/subject07.wink  \n",
            "  inflating: yalefaces/subject08.centerlight  \n",
            "  inflating: yalefaces/subject08.glasses  \n",
            "  inflating: yalefaces/subject08.happy  \n",
            "  inflating: yalefaces/subject08.leftlight  \n",
            "  inflating: yalefaces/subject08.noglasses  \n",
            "  inflating: yalefaces/subject08.normal  \n",
            "  inflating: yalefaces/subject08.rightlight  \n",
            "  inflating: yalefaces/subject08.sad  \n",
            "  inflating: yalefaces/subject08.sleepy  \n",
            "  inflating: yalefaces/subject08.surprised  \n",
            "  inflating: yalefaces/subject08.wink  \n",
            "  inflating: yalefaces/subject09.centerlight  \n",
            "  inflating: yalefaces/subject09.glasses  \n",
            "  inflating: yalefaces/subject09.happy  \n",
            "  inflating: yalefaces/subject09.leftlight  \n",
            "  inflating: yalefaces/subject09.noglasses  \n",
            "  inflating: yalefaces/subject09.normal  \n",
            "  inflating: yalefaces/subject09.rightlight  \n",
            "  inflating: yalefaces/subject09.sad  \n",
            "  inflating: yalefaces/subject09.sleepy  \n",
            "  inflating: yalefaces/subject09.surprised  \n",
            "  inflating: yalefaces/subject09.wink  \n",
            "  inflating: yalefaces/subject10.centerlight  \n",
            "  inflating: yalefaces/subject10.glasses  \n",
            "  inflating: yalefaces/subject10.happy  \n",
            "  inflating: yalefaces/subject10.leftlight  \n",
            "  inflating: yalefaces/subject10.noglasses  \n",
            "  inflating: yalefaces/subject10.normal  \n",
            "  inflating: yalefaces/subject10.rightlight  \n",
            "  inflating: yalefaces/subject10.sad  \n",
            "  inflating: yalefaces/subject10.sleepy  \n",
            "  inflating: yalefaces/subject10.surprised  \n",
            "  inflating: yalefaces/subject10.wink  \n",
            "  inflating: yalefaces/subject11.centerlight  \n",
            "  inflating: yalefaces/subject11.glasses  \n",
            "  inflating: yalefaces/subject11.happy  \n",
            "  inflating: yalefaces/subject11.leftlight  \n",
            "  inflating: yalefaces/subject11.noglasses  \n",
            "  inflating: yalefaces/subject11.normal  \n",
            "  inflating: yalefaces/subject11.rightlight  \n",
            "  inflating: yalefaces/subject11.sad  \n",
            "  inflating: yalefaces/subject11.sleepy  \n",
            "  inflating: yalefaces/subject11.surprised  \n",
            "  inflating: yalefaces/subject11.wink  \n",
            "  inflating: yalefaces/subject12.centerlight  \n",
            "  inflating: yalefaces/subject12.glasses  \n",
            "  inflating: yalefaces/subject12.happy  \n",
            "  inflating: yalefaces/subject12.leftlight  \n",
            "  inflating: yalefaces/subject12.noglasses  \n",
            "  inflating: yalefaces/subject12.normal  \n",
            "  inflating: yalefaces/subject12.rightlight  \n",
            "  inflating: yalefaces/subject12.sad  \n",
            "  inflating: yalefaces/subject12.sleepy  \n",
            "  inflating: yalefaces/subject12.surprised  \n",
            "  inflating: yalefaces/subject12.wink  \n",
            "  inflating: yalefaces/subject13.centerlight  \n",
            "  inflating: yalefaces/subject13.glasses  \n",
            "  inflating: yalefaces/subject13.happy  \n",
            "  inflating: yalefaces/subject13.leftlight  \n",
            "  inflating: yalefaces/subject13.noglasses  \n",
            "  inflating: yalefaces/subject13.normal  \n",
            "  inflating: yalefaces/subject13.rightlight  \n",
            "  inflating: yalefaces/subject13.sad  \n",
            "  inflating: yalefaces/subject13.sleepy  \n",
            "  inflating: yalefaces/subject13.surprised  \n",
            "  inflating: yalefaces/subject13.wink  \n",
            "  inflating: yalefaces/subject14.centerlight  \n",
            "  inflating: yalefaces/subject14.glasses  \n",
            "  inflating: yalefaces/subject14.happy  \n",
            "  inflating: yalefaces/subject14.leftlight  \n",
            "  inflating: yalefaces/subject14.noglasses  \n",
            "  inflating: yalefaces/subject14.normal  \n",
            "  inflating: yalefaces/subject14.rightlight  \n",
            "  inflating: yalefaces/subject14.sad  \n",
            "  inflating: yalefaces/subject14.sleepy  \n",
            "  inflating: yalefaces/subject14.surprised  \n",
            "  inflating: yalefaces/subject14.wink  \n",
            "  inflating: yalefaces/subject15.centerlight  \n",
            "  inflating: yalefaces/subject15.glasses  \n",
            "  inflating: yalefaces/subject15.happy  \n",
            "  inflating: yalefaces/subject15.leftlight  \n",
            "  inflating: yalefaces/subject15.noglasses  \n",
            "  inflating: yalefaces/subject15.normal  \n",
            "  inflating: yalefaces/subject15.rightlight  \n",
            "  inflating: yalefaces/subject15.sad  \n",
            "  inflating: yalefaces/subject15.sleepy  \n",
            "  inflating: yalefaces/subject15.surprised  \n",
            "  inflating: yalefaces/subject15.wink  \n"
          ],
          "name": "stdout"
        }
      ]
    },
    {
      "cell_type": "code",
      "metadata": {
        "id": "8GEDFGdZkFrM",
        "colab_type": "code",
        "colab": {}
      },
      "source": [
        "files = glob('yalefaces/subject*') # look for every file starts with 'subject'"
      ],
      "execution_count": 0,
      "outputs": []
    },
    {
      "cell_type": "code",
      "metadata": {
        "id": "-4u1wJ03kTEc",
        "colab_type": "code",
        "colab": {}
      },
      "source": [
        "np.random.shuffle(files)"
      ],
      "execution_count": 0,
      "outputs": []
    },
    {
      "cell_type": "code",
      "metadata": {
        "id": "T4WIlvjEkc4f",
        "colab_type": "code",
        "outputId": "f5902e6e-4245-43a8-da70-12f52583d278",
        "colab": {
          "base_uri": "https://localhost:8080/",
          "height": 34
        }
      },
      "source": [
        "N = len(files)\n",
        "print('Number of files:', N)"
      ],
      "execution_count": 6,
      "outputs": [
        {
          "output_type": "stream",
          "text": [
            "Number of files: 166\n"
          ],
          "name": "stdout"
        }
      ]
    },
    {
      "cell_type": "code",
      "metadata": {
        "id": "ME1joxglkwgT",
        "colab_type": "code",
        "colab": {}
      },
      "source": [
        "H = 60\n",
        "W = 80\n",
        "\n",
        "def load_img(path):\n",
        "  img = image.load_img(path, target_size=[H, W])\n",
        "  img = image.img_to_array(img).astype('uint8')\n",
        "  return img"
      ],
      "execution_count": 0,
      "outputs": []
    },
    {
      "cell_type": "code",
      "metadata": {
        "id": "JiZ3-fY3me2u",
        "colab_type": "code",
        "outputId": "9608e062-192b-43aa-db97-f3c0057902f5",
        "colab": {
          "base_uri": "https://localhost:8080/",
          "height": 285
        }
      },
      "source": [
        "img = load_img(np.random.choice(files))\n",
        "plt.imshow(img)\n",
        "plt.show()\n",
        "print('Image shape:', img.shape)"
      ],
      "execution_count": 8,
      "outputs": [
        {
          "output_type": "display_data",
          "data": {
            "image/png": "[encoded data removed]",
            "text/plain": [
              "<Figure size 432x288 with 1 Axes>"
            ]
          },
          "metadata": {
            "tags": [],
            "needs_background": "light"
          }
        },
        {
          "output_type": "stream",
          "text": [
            "Image shape: (60, 80, 3)\n"
          ],
          "name": "stdout"
        }
      ]
    },
    {
      "cell_type": "code",
      "metadata": {
        "id": "SjHggl3EpPV4",
        "colab_type": "code",
        "outputId": "a0cd25b5-6db1-4cc9-f868-010137eef66b",
        "colab": {
          "base_uri": "https://localhost:8080/",
          "height": 34
        }
      },
      "source": [
        "# Looks like we have 3 channels but grayscale images\n",
        "# Let's check if channels have the same values\n",
        "(np.all(img[:,:,0]==img[:,:,1]), np.all(img[:,:,0]==img[:,:,2]))"
      ],
      "execution_count": 9,
      "outputs": [
        {
          "output_type": "execute_result",
          "data": {
            "text/plain": [
              "(True, True)"
            ]
          },
          "metadata": {
            "tags": []
          },
          "execution_count": 9
        }
      ]
    },
    {
      "cell_type": "code",
      "metadata": {
        "id": "o07DOam2qYhD",
        "colab_type": "code",
        "colab": {}
      },
      "source": [
        "def rgb_to_grayscale(img):\n",
        "  gray = cv2.cvtColor(img, cv2.COLOR_RGB2GRAY)\n",
        "  return gray"
      ],
      "execution_count": 0,
      "outputs": []
    },
    {
      "cell_type": "code",
      "metadata": {
        "id": "zn1pAtQ8sdCD",
        "colab_type": "code",
        "outputId": "78949f39-dbbb-4e7c-d754-f561ab88ed90",
        "colab": {
          "base_uri": "https://localhost:8080/",
          "height": 285
        }
      },
      "source": [
        "# Check if shape is (1, H,  W)\n",
        "grayscaled = rgb_to_grayscale(img)\n",
        "print(grayscaled.shape)\n",
        "plt.imshow(grayscaled, cmap='gray')\n",
        "plt.show()"
      ],
      "execution_count": 11,
      "outputs": [
        {
          "output_type": "stream",
          "text": [
            "(60, 80)\n"
          ],
          "name": "stdout"
        },
        {
          "output_type": "display_data",
          "data": {
            "image/png": "[encoded data removed]",
            "text/plain": [
              "<Figure size 432x288 with 1 Axes>"
            ]
          },
          "metadata": {
            "tags": [],
            "needs_background": "light"
          }
        }
      ]
    },
    {
      "cell_type": "code",
      "metadata": {
        "id": "0Ho8xZkdMue5",
        "colab_type": "code",
        "colab": {}
      },
      "source": [
        "# Load images as arrays\n",
        "def make_data(files_path, shape):\n",
        "  images = np.zeros(shape)\n",
        "  for i, f in enumerate(files_path):\n",
        "    img = rgb_to_grayscale(load_img(f)) / 255.\n",
        "    images[i] = img\n",
        "  return images  \n",
        "\n",
        "# Making labels\n",
        "def make_labels(files_path, shape):\n",
        "  labels = np.zeros(shape)\n",
        "  for i, f in enumerate(files_path):\n",
        "    file_name = f.split('/', maxsplit=1)[-1]\n",
        "    subject_name = file_name.split('.', maxsplit=1)[0]\n",
        "    index = int(subject_name.replace('subject', ''))-1\n",
        "    labels[i] = index  \n",
        "  return labels"
      ],
      "execution_count": 0,
      "outputs": []
    },
    {
      "cell_type": "code",
      "metadata": {
        "id": "OSddC2Q_N2ak",
        "colab_type": "code",
        "outputId": "51efacf4-ea38-4ab3-c95e-ba82e62f1e97",
        "colab": {
          "base_uri": "https://localhost:8080/",
          "height": 52
        }
      },
      "source": [
        "images = make_data(files, shape=(N, H, W))\n",
        "labels = make_labels(files, shape=N)\n",
        "\n",
        "print('Dataset shape:', images.shape)\n",
        "print('Labels shape:', labels.shape)"
      ],
      "execution_count": 13,
      "outputs": [
        {
          "output_type": "stream",
          "text": [
            "Dataset shape: (166, 60, 80)\n",
            "Labels shape: (166,)\n"
          ],
          "name": "stdout"
        }
      ]
    },
    {
      "cell_type": "markdown",
      "metadata": {
        "id": "TwthA2diMWZa",
        "colab_type": "text"
      },
      "source": [
        "# 2. Train-Test split"
      ]
    },
    {
      "cell_type": "code",
      "metadata": {
        "id": "eButpbVCcwlV",
        "colab_type": "code",
        "colab": {}
      },
      "source": [
        "def split_data(images, labels, split=3):\n",
        "  labels_count = Counter(labels)\n",
        "  unique_labels = set(labels_count.keys())\n",
        "  n_subjects = len(unique_labels)\n",
        "  n_test = split * n_subjects\n",
        "  n_train = N - n_test\n",
        "\n",
        "  train_images = np.zeros([n_train]+[H, W])\n",
        "  train_labels = np.zeros(n_train)\n",
        "  test_images = np.zeros([n_test]+[H, W])\n",
        "  test_labels = np.zeros(n_test)\n",
        "\n",
        "  counter = {}\n",
        "  train_idx = 0\n",
        "  test_idx = 0\n",
        "\n",
        "  for image, label in zip(images, labels):\n",
        "    counter[label] = counter.get(label, 0)+1\n",
        "    if counter[label] > split:\n",
        "      train_images[train_idx] = image\n",
        "      train_labels[train_idx] = label\n",
        "      train_idx += 1\n",
        "    else:\n",
        "      test_images[test_idx] = image\n",
        "      test_labels[test_idx] = label\n",
        "      test_idx += 1  \n",
        "        \n",
        "  return train_images, train_labels, test_images, test_labels"
      ],
      "execution_count": 0,
      "outputs": []
    },
    {
      "cell_type": "code",
      "metadata": {
        "id": "oTVhfA00YF-d",
        "colab_type": "code",
        "outputId": "44452aba-2d1a-4ce9-af9c-ce7f1b75452a",
        "colab": {
          "base_uri": "https://localhost:8080/",
          "height": 86
        }
      },
      "source": [
        "train_images, train_labels, test_images, test_labels = split_data(images, labels, 3)\n",
        "\n",
        "print('Train data shape:', train_images.shape)\n",
        "print('Train labels shape:', train_labels.shape)\n",
        "print('Test data shape:', test_images.shape)\n",
        "print('Test labels shape:', test_labels.shape)"
      ],
      "execution_count": 15,
      "outputs": [
        {
          "output_type": "stream",
          "text": [
            "Train data shape: (121, 60, 80)\n",
            "Train labels shape: (121,)\n",
            "Test data shape: (45, 60, 80)\n",
            "Test labels shape: (45,)\n"
          ],
          "name": "stdout"
        }
      ]
    },
    {
      "cell_type": "markdown",
      "metadata": {
        "id": "Q9CwOopFmbaw",
        "colab_type": "text"
      },
      "source": [
        "# 3. Generate pairs"
      ]
    },
    {
      "cell_type": "code",
      "metadata": {
        "id": "W_0urhP1dJs3",
        "colab_type": "code",
        "colab": {}
      },
      "source": [
        "def get_indices(train_images, train_labels, test_indices, test_labels):\n",
        "  \n",
        "  train_indices = {}\n",
        "  test_indices = {}\n",
        "\n",
        "  for i, label in enumerate(train_labels):\n",
        "    if label not in train_indices:\n",
        "      train_indices[label] = [i]\n",
        "    else:\n",
        "      train_indices[label].append(i)\n",
        "\n",
        "  for i, label in enumerate(test_labels):\n",
        "    if label not in test_indices:\n",
        "      test_indices[label] = [i]\n",
        "    else:\n",
        "      test_indices[label].append(i)\n",
        "  \n",
        "  return train_indices, test_indices           "
      ],
      "execution_count": 0,
      "outputs": []
    },
    {
      "cell_type": "code",
      "metadata": {
        "id": "q9-gwN-Lfd4T",
        "colab_type": "code",
        "colab": {}
      },
      "source": [
        "train_indices, test_indices = get_indices(train_images, train_labels, test_images, test_labels)"
      ],
      "execution_count": 0,
      "outputs": []
    },
    {
      "cell_type": "code",
      "metadata": {
        "id": "5ODQPwTIJDks",
        "colab_type": "code",
        "colab": {}
      },
      "source": [
        "def generate_pairs(train_indices, test_indices):\n",
        "\n",
        "  train_positives = []\n",
        "  train_negatives = []\n",
        "  test_positives = []\n",
        "  test_negatives = []\n",
        "  n_train = train_images.shape[0]\n",
        "  n_test = test_images.shape[0]\n",
        "\n",
        "  for labels, indices in train_indices.items():\n",
        "    other_indices = set(range(n_train)) - set(indices)\n",
        "    for i, idx1 in enumerate(indices):\n",
        "      for idx2 in indices[i+1:]:\n",
        "        train_positives.append((idx1, idx2))\n",
        "      for idx2 in other_indices:\n",
        "        train_negatives.append((idx1, idx2))\n",
        "\n",
        "  for labels, indices in test_indices.items():\n",
        "    other_indices = set(range(n_test)) - set(indices)\n",
        "    for i, idx1 in enumerate(indices):\n",
        "      for idx2 in indices[i+1:]:\n",
        "        test_positives.append((idx1, idx1))\n",
        "      for idx2 in other_indices:\n",
        "        test_negatives.append((idx1, idx2)) \n",
        "\n",
        "  return train_positives, train_negatives, test_positives, test_negatives               "
      ],
      "execution_count": 0,
      "outputs": []
    },
    {
      "cell_type": "code",
      "metadata": {
        "id": "uOfMtqKpgzVR",
        "colab_type": "code",
        "outputId": "7decf282-06dd-4353-e6a7-1b49231c5704",
        "colab": {
          "base_uri": "https://localhost:8080/",
          "height": 86
        }
      },
      "source": [
        "train_positives, train_negatives, test_positives, test_negatives = generate_pairs(train_indices, test_indices)\n",
        "\n",
        "print('Number of train positive pairs:', len(train_positives))\n",
        "print('Number of train negative pairs:', len(train_negatives))\n",
        "print('Number of test positive pairs:', len(test_positives))\n",
        "print('Number of test negative pairs:', len(test_negatives))"
      ],
      "execution_count": 19,
      "outputs": [
        {
          "output_type": "stream",
          "text": [
            "Number of train positive pairs: 428\n",
            "Number of train negative pairs: 13664\n",
            "Number of test positive pairs: 45\n",
            "Number of test negative pairs: 1890\n"
          ],
          "name": "stdout"
        }
      ]
    },
    {
      "cell_type": "markdown",
      "metadata": {
        "id": "zQJwsawPmgBG",
        "colab_type": "text"
      },
      "source": [
        "# 4. Train and Test generators"
      ]
    },
    {
      "cell_type": "code",
      "metadata": {
        "id": "I4IiW7P4zQJ7",
        "colab_type": "code",
        "colab": {}
      },
      "source": [
        "# Generators for generating balanced batches in training loop\n",
        "\n",
        "batch_size = 64\n",
        "def train_generator():\n",
        "  n_batches = int(np.ceil(len(train_positives) / batch_size)) # rounded up because last batch will have less samples than the rest\n",
        "\n",
        "  while True:\n",
        "    np.random.shuffle(train_positives)\n",
        "    n_samples = batch_size * 2\n",
        "    shape = (n_samples, H, W)\n",
        "    x_batch_1 = np.zeros(shape)\n",
        "    x_batch_2 = np.zeros(shape)\n",
        "    y_batch = np.zeros(n_samples)\n",
        "\n",
        "    # get positive samples\n",
        "    for i in range(n_batches):\n",
        "      pos_batch_idxs = train_positives[i*batch_size : (i+1)*batch_size]\n",
        "      j = 0\n",
        "      for idx1, idx2 in pos_batch_idxs:\n",
        "        x_batch_1[j] = train_images[idx1]\n",
        "        x_batch_2[j] = train_images[idx2]\n",
        "        y_batch[j] = 1\n",
        "        j += 1\n",
        "\n",
        "      # get negative samples\n",
        "      neg_batch_idxs = np.random.choice(len(train_negatives), size=len(pos_batch_idxs), replace=False) # from 13664 take random *batch_size* elements\n",
        "      for k in neg_batch_idxs:\n",
        "        idx1, idx2 = train_negatives[k]\n",
        "        x_batch_1[j] = train_images[idx1]\n",
        "        x_batch_2[j] = train_images[idx2]\n",
        "        y_batch[j] = 0\n",
        "        j += 1 \n",
        "\n",
        "      x1 = x_batch_1[:j]\n",
        "      x2 = x_batch_2[:j]\n",
        "      y = y_batch[:j]\n",
        "      # reshape for CNN\n",
        "      x1 = x1.reshape(-1, 1, H, W)\n",
        "      x2 = x2.reshape(-1, 1, H, W)\n",
        "      # convert our data to Tensor\n",
        "      x1 = torch.from_numpy(x1).float()\n",
        "      x2 = torch.from_numpy(x2).float()\n",
        "      y = torch.from_numpy(y).float()\n",
        "\n",
        "      yield [x1, x2], y"
      ],
      "execution_count": 0,
      "outputs": []
    },
    {
      "cell_type": "code",
      "metadata": {
        "id": "jLRM2UebFEHB",
        "colab_type": "code",
        "colab": {}
      },
      "source": [
        "def test_generator():\n",
        "  n_batches = int(np.ceil(len(test_positives) / batch_size)) # rounded up because last batch will have less samples than the rest\n",
        "\n",
        "  while True:\n",
        "    n_samples = batch_size * 2\n",
        "    shape = (n_samples, H, W)\n",
        "    x_batch_1 = np.zeros(shape)\n",
        "    x_batch_2 = np.zeros(shape)\n",
        "    y_batch = np.zeros(n_samples)\n",
        "\n",
        "    # get positive samples\n",
        "    for i in range(n_batches):\n",
        "      pos_batch_idxs = test_positives[i*batch_size: (i+1)*batch_size]\n",
        "      j = 0\n",
        "      for idx1, idx2 in pos_batch_idxs:\n",
        "        x_batch_1[j] = test_images[idx1]\n",
        "        x_batch_2[j] = test_images[idx2]\n",
        "        y_batch[j] = 1\n",
        "        j += 1\n",
        "\n",
        "      # get negative samples\n",
        "      neg_batch_idxs = np.random.choice(len(test_negatives), size=len(pos_batch_idxs), replace=False) # from 13664 take random *batch_size* elements\n",
        "      for k in neg_batch_idxs:\n",
        "        idx1, idx2 = test_negatives[k]\n",
        "        x_batch_1[j] = test_images[idx1]\n",
        "        x_batch_2[j] = test_images[idx2]\n",
        "        y_batch[j] = 0\n",
        "        j += 1 \n",
        "\n",
        "      x1 = x_batch_1[:j]\n",
        "      x2 = x_batch_2[:j]\n",
        "      y = y_batch[:j]\n",
        "      # reshape for CNN\n",
        "      x1 = x1.reshape(-1, 1, H, W)\n",
        "      x2 = x2.reshape(-1, 1, H, W)\n",
        "      # convert our data to Tensor\n",
        "      x1 = torch.from_numpy(x1).float()\n",
        "      x2 = torch.from_numpy(x2).float()\n",
        "      y = torch.from_numpy(y).float()\n",
        "\n",
        "      yield [x1, x2], y"
      ],
      "execution_count": 0,
      "outputs": []
    },
    {
      "cell_type": "markdown",
      "metadata": {
        "id": "FJelsM3umV1U",
        "colab_type": "text"
      },
      "source": [
        "# 5. Build a model"
      ]
    },
    {
      "cell_type": "code",
      "metadata": {
        "id": "UKvqbXcQmVPD",
        "colab_type": "code",
        "colab": {}
      },
      "source": [
        "# Build siamese neural network that\n",
        "# works with 2 different feature vectors and use the same weights\n",
        "\n",
        "class SiameseNetwork(nn.Module):\n",
        "  def __init__(self, feature_dim):\n",
        "    super(SiameseNetwork, self).__init__()\n",
        "\n",
        "    self.cnn = nn.Sequential(\n",
        "        nn.Conv2d(1, 32, kernel_size=3),\n",
        "        nn.BatchNorm2d(32),\n",
        "        nn.ReLU(),\n",
        "        nn.MaxPool2d(2),\n",
        "        nn.Conv2d(32, 64, kernel_size=3),\n",
        "        nn.BatchNorm2d(64),\n",
        "        nn.ReLU(),\n",
        "        nn.MaxPool2d(2),\n",
        "        nn.Flatten(),\n",
        "        nn.Linear(13*18*64, 128),\n",
        "        nn.ReLU(),\n",
        "        nn.Linear(128, feature_dim)\n",
        "    )\n",
        "\n",
        "  def forward(self, x1, x2):\n",
        "    feature1 = self.cnn(x1)\n",
        "    feature2 = self.cnn(x2)  \n",
        "    return torch.norm(feature1 - feature2, dim=-1)"
      ],
      "execution_count": 0,
      "outputs": []
    },
    {
      "cell_type": "code",
      "metadata": {
        "id": "APAM3qN_ow5c",
        "colab_type": "code",
        "colab": {}
      },
      "source": [
        "def contrastive_loss(output, target):\n",
        "  non_match = torch.nn.functional.relu(1 - output) \n",
        "  return torch.mean(target * output**2 + (1 - target) * non_match**2)"
      ],
      "execution_count": 0,
      "outputs": []
    },
    {
      "cell_type": "code",
      "metadata": {
        "id": "xTdURHWCqZMN",
        "colab_type": "code",
        "colab": {}
      },
      "source": [
        "def train_model(model,\n",
        "                loss,\n",
        "                optimizer,\n",
        "                train_gen,\n",
        "                test_gen,\n",
        "                train_steps_per_epoch,\n",
        "                test_steps_per_epoch,\n",
        "                n_epochs):\n",
        "  train_history = np.zeros(n_epochs)\n",
        "  test_history = np.zeros(n_epochs)\n",
        "  \n",
        "  for epoch in range(n_epochs):\n",
        "    t0 = datetime.now()\n",
        "    train_loss = []\n",
        "    steps = 0\n",
        "    for (x1, x2), y in train_gen:\n",
        "      x1 = x1.to(device)\n",
        "      x2 = x2.to(device)\n",
        "      y = y.to(device)\n",
        "\n",
        "      optimizer.zero_grad()\n",
        "      outputs = model(x1, x2)\n",
        "      loss_value = loss(outputs, y)\n",
        "      loss_value.backward()\n",
        "      optimizer.step()\n",
        "      train_loss.append(loss_value.item())\n",
        "      steps += 1\n",
        "      if steps >= train_steps_per_epoch:\n",
        "        break\n",
        "    train_loss = np.mean(train_loss)\n",
        "\n",
        "    test_loss = []\n",
        "    steps = 0\n",
        "    for (x1, x2), y in test_gen:\n",
        "      x1 = x1.to(device)\n",
        "      x2 = x2.to(device)\n",
        "      y = y.to(device)\n",
        "      outputs = model(x1, x2)\n",
        "      loss_value = loss(outputs, y)\n",
        "      test_loss.append(loss_value.item())\n",
        "      steps += 1\n",
        "      if steps >= test_steps_per_epoch:\n",
        "        break\n",
        "    test_loss = np.mean(test_loss)\n",
        "\n",
        "    # Save loss history\n",
        "    train_history[epoch] = train_loss\n",
        "    test_history[epoch] = test_loss\n",
        "\n",
        "    print('Epoch: {}/{} Train loss: {}, Test loss: {}'.format(epoch+1, n_epochs, train_loss, test_loss))\n",
        "\n",
        "  return train_history, test_history    "
      ],
      "execution_count": 0,
      "outputs": []
    },
    {
      "cell_type": "code",
      "metadata": {
        "id": "ck-_SJxivlA2",
        "colab_type": "code",
        "colab": {}
      },
      "source": [
        "# Define model and optimizer\n",
        "device = torch.device('cuda:0' if torch.cuda.is_available() else 'cpu')\n",
        "model = SiameseNetwork(50)\n",
        "model.to(device)\n",
        "optimizer = torch.optim.Adam(model.parameters())"
      ],
      "execution_count": 0,
      "outputs": []
    },
    {
      "cell_type": "code",
      "metadata": {
        "id": "s5BoVzE6vG1c",
        "colab_type": "code",
        "outputId": "cf12146a-1a36-44c1-a7fe-8454a5c05d36",
        "colab": {
          "base_uri": "https://localhost:8080/",
          "height": 364
        }
      },
      "source": [
        "# Define batch size and steps per epoch\n",
        "batch_size = 64\n",
        "train_steps = int(np.ceil(len(train_positives) / batch_size))\n",
        "test_steps = int(np.ceil(len(test_positives) / batch_size))\n",
        "\n",
        "train_history, test_history = train_model(model,\n",
        "                                          contrastive_loss,\n",
        "                                          optimizer,\n",
        "                                          train_generator(),\n",
        "                                          test_generator(),\n",
        "                                          train_steps,\n",
        "                                          test_steps,\n",
        "                                          20)"
      ],
      "execution_count": 26,
      "outputs": [
        {
          "output_type": "stream",
          "text": [
            "Epoch: 1/20 Train loss: 0.5945035368204117, Test loss: 0.03994444012641907\n",
            "Epoch: 2/20 Train loss: 0.16577598878315516, Test loss: 0.05786259099841118\n",
            "Epoch: 3/20 Train loss: 0.1295845987541335, Test loss: 0.022987892851233482\n",
            "Epoch: 4/20 Train loss: 0.07980534966502871, Test loss: 0.041596319526433945\n",
            "Epoch: 5/20 Train loss: 0.06665067427924701, Test loss: 0.03030443750321865\n",
            "Epoch: 6/20 Train loss: 0.04830218053289822, Test loss: 0.013298052363097668\n",
            "Epoch: 7/20 Train loss: 0.02850668158914362, Test loss: 0.018768392503261566\n",
            "Epoch: 8/20 Train loss: 0.02004930323788098, Test loss: 0.00475713238120079\n",
            "Epoch: 9/20 Train loss: 0.014292116409965925, Test loss: 0.0032577766105532646\n",
            "Epoch: 10/20 Train loss: 0.010372689392949854, Test loss: 0.01792260631918907\n",
            "Epoch: 11/20 Train loss: 0.008727999470595802, Test loss: 0.009512879885733128\n",
            "Epoch: 12/20 Train loss: 0.005965771486184427, Test loss: 0.0033546965569257736\n",
            "Epoch: 13/20 Train loss: 0.005545376168031778, Test loss: 0.007849621586501598\n",
            "Epoch: 14/20 Train loss: 0.004886295712952103, Test loss: 0.007055277470499277\n",
            "Epoch: 15/20 Train loss: 0.0038616281069282976, Test loss: 0.007412858307361603\n",
            "Epoch: 16/20 Train loss: 0.0032926551398954223, Test loss: 0.0037601101212203503\n",
            "Epoch: 17/20 Train loss: 0.002045534534512886, Test loss: 0.0016586125129833817\n",
            "Epoch: 18/20 Train loss: 0.002467000640795699, Test loss: 0.004746009595692158\n",
            "Epoch: 19/20 Train loss: 0.0020842838899365495, Test loss: 0.0037544039078056812\n",
            "Epoch: 20/20 Train loss: 0.0017213880284024136, Test loss: 0.0023553583305329084\n"
          ],
          "name": "stdout"
        }
      ]
    },
    {
      "cell_type": "code",
      "metadata": {
        "id": "0pcN4Ib-wNJS",
        "colab_type": "code",
        "outputId": "b2f409b9-01e5-4283-d696-19f9bc54ca2b",
        "colab": {
          "base_uri": "https://localhost:8080/",
          "height": 265
        }
      },
      "source": [
        "plt.plot(train_history, label='train_loss')\n",
        "plt.plot(test_history, label='test loss')\n",
        "plt.legend()\n",
        "plt.show()"
      ],
      "execution_count": 27,
      "outputs": [
        {
          "output_type": "display_data",
          "data": {
            "image/png": "[encoded data removed]",
            "text/plain": [
              "<Figure size 432x288 with 1 Axes>"
            ]
          },
          "metadata": {
            "tags": [],
            "needs_background": "light"
          }
        }
      ]
    },
    {
      "cell_type": "markdown",
      "metadata": {
        "id": "A_udOMddSJVJ",
        "colab_type": "text"
      },
      "source": [
        "# 6. Evaluate the model"
      ]
    },
    {
      "cell_type": "code",
      "metadata": {
        "id": "XBUL8XW2SNyX",
        "colab_type": "code",
        "colab": {}
      },
      "source": [
        "# Convenience function to make predictions\n",
        "def predict(x1, x2):\n",
        "  x1 = torch.from_numpy(x1).float()\n",
        "  x2 = torch.from_numpy(x2).float()\n",
        "  x1 = x1.to(device)\n",
        "  x2 = x2.to(device)\n",
        "  with torch.no_grad():\n",
        "    distances = model(x1, x2)\n",
        "    distances = distances.cpu().numpy()\n",
        "    return distances.flatten()"
      ],
      "execution_count": 0,
      "outputs": []
    },
    {
      "cell_type": "code",
      "metadata": {
        "id": "Hv9aRv_jeDV1",
        "colab_type": "code",
        "colab": {}
      },
      "source": [
        "# Accuracy isn't best metric for imbalanced classes\n",
        "# Use sensitivity and specificity instead\n",
        "\n",
        "def get_train_acc(threshold=0.7, batch_size=64):\n",
        "  pos_distances = []\n",
        "  neg_distances = []\n",
        "\n",
        "  tp = 0\n",
        "  tn = 0\n",
        "  fp = 0\n",
        "  fn = 0\n",
        "\n",
        "  # positive pairs\n",
        "  n_batches = int(np.ceil(len(train_positives) / batch_size))\n",
        "  x_batch_1 = np.zeros((batch_size, 1, H, W))\n",
        "  x_batch_2 = np.zeros((batch_size, 1, H, W))\n",
        "\n",
        "  for i in range(n_batches):\n",
        "    pos_batch_idxs = train_positives[i*batch_size: (i+1)*batch_size]\n",
        "    j = 0\n",
        "    for idx1, idx2 in pos_batch_idxs:\n",
        "      x_batch_1[j] = train_images[idx1]\n",
        "      x_batch_2[j] = train_images[idx2]\n",
        "      j += 1\n",
        "\n",
        "    x1 = x_batch_1[:j]\n",
        "    x2 = x_batch_2[:j]\n",
        "    dists = predict(x1, x2)\n",
        "    pos_distances += dists.tolist()\n",
        "\n",
        "    tp += (dists < threshold).sum()\n",
        "    fn += (dists > threshold).sum()\n",
        "\n",
        "    n_batches = int(np.ceil(len(train_negatives) / batch_size))\n",
        "    x_batch_1 = np.zeros((batch_size, 1, H, W))\n",
        "    x_batch_2 = np.zeros((batch_size, 1, H, W))\n",
        "\n",
        "  # negative pairs\n",
        "  n_batches = int(np.ceil(len(train_negatives) / batch_size))\n",
        "  for i in range(n_batches):\n",
        "    neg_batch_idxs = train_negatives[i*batch_size: (i+1)*batch_size]\n",
        "    j = 0\n",
        "    for idx1, idx2 in neg_batch_idxs:\n",
        "      x_batch_1[j,0] = train_images[idx1]\n",
        "      x_batch_2[j,0] = train_images[idx2]\n",
        "      j += 1\n",
        "    x1 = x_batch_1[:j]\n",
        "    x2 = x_batch_2[:j]\n",
        "    dists = predict(x1, x2)\n",
        "    neg_distances += dists.tolist()\n",
        "\n",
        "    fp += (dists < threshold).sum()\n",
        "    tn += (dists > threshold).sum()\n",
        "\n",
        "  sensitivity = tp / (tp + fn)\n",
        "  specificity = tn / (tn + fp)\n",
        "  print('Train sensitivity: {}  Train specificity: {}'.format(sensitivity, specificity))\n",
        "  \n",
        "  return pos_distances, neg_distances"
      ],
      "execution_count": 0,
      "outputs": []
    },
    {
      "cell_type": "code",
      "metadata": {
        "id": "vihZOwU6tLrl",
        "colab_type": "code",
        "colab": {}
      },
      "source": [
        "# The same procedure for test set\n",
        "\n",
        "def get_test_acc(threshold=0.7, batch_size=64):\n",
        "  pos_distances = []\n",
        "  neg_distances = []\n",
        "\n",
        "  tp = 0\n",
        "  tn = 0\n",
        "  fp = 0\n",
        "  fn = 0\n",
        "\n",
        "  # positive pairs\n",
        "  n_batches = int(np.ceil(len(test_positives) / batch_size))\n",
        "  x_batch_1 = np.zeros((batch_size, 1, H, W))\n",
        "  x_batch_2 = np.zeros((batch_size, 1, H, W))\n",
        "\n",
        "  for i in range(n_batches):\n",
        "    pos_batch_idxs = test_positives[i*batch_size: (i+1)*batch_size]\n",
        "    j = 0\n",
        "    for idx1, idx2 in pos_batch_idxs:\n",
        "      x_batch_1[j] = test_images[idx1]\n",
        "      x_batch_2[j] = test_images[idx2]\n",
        "      j += 1\n",
        "\n",
        "    x1 = x_batch_1[:j]\n",
        "    x2 = x_batch_2[:j]\n",
        "    dists = predict(x1, x2)\n",
        "    pos_distances += dists.tolist()\n",
        "\n",
        "    tp += (dists < threshold).sum()\n",
        "    fn += (dists > threshold).sum()\n",
        "\n",
        "    n_batches = int(np.ceil(len(test_negatives) / batch_size))\n",
        "    x_batch_1 = np.zeros((batch_size, 1, H, W))\n",
        "    x_batch_2 = np.zeros((batch_size, 1, H, W))\n",
        "\n",
        "  # negative pairs\n",
        "  n_batches = int(np.ceil(len(test_negatives) / batch_size))\n",
        "  for i in range(n_batches):\n",
        "    neg_batch_idxs = test_negatives[i*batch_size: (i+1)*batch_size]\n",
        "    j = 0\n",
        "    for idx1, idx2 in neg_batch_idxs:\n",
        "      x_batch_1[j] = test_images[idx1]\n",
        "      x_batch_2[j] = test_images[idx2]\n",
        "      j += 1\n",
        "    x1 = x_batch_1[:j]\n",
        "    x2 = x_batch_2[:j]\n",
        "    dists = predict(x1, x2)\n",
        "    neg_distances += dists.tolist()\n",
        "\n",
        "    fp += (dists < threshold).sum()\n",
        "    tn += (dists > threshold).sum()\n",
        "\n",
        "  sensitivity = tp / (tp + fn)\n",
        "  specificity = tn / (tn + fp)\n",
        "  print('Test sensitivity: {}  Test specificity: {}'.format(sensitivity, specificity))\n",
        "  \n",
        "  return pos_distances, neg_distances"
      ],
      "execution_count": 0,
      "outputs": []
    },
    {
      "cell_type": "code",
      "metadata": {
        "id": "puBvyRvOtjzl",
        "colab_type": "code",
        "outputId": "3604eec1-3ec7-4790-9be7-9098f4f20303",
        "colab": {
          "base_uri": "https://localhost:8080/",
          "height": 34
        }
      },
      "source": [
        "train_pos_distances, train_neg_distances = get_train_acc()"
      ],
      "execution_count": 31,
      "outputs": [
        {
          "output_type": "stream",
          "text": [
            "Train sensitivity: 1.0  Train specificity: 0.9811182669789227\n"
          ],
          "name": "stdout"
        }
      ]
    },
    {
      "cell_type": "code",
      "metadata": {
        "id": "kGBgBMYV09dH",
        "colab_type": "code",
        "outputId": "acc31893-3b86-495a-a658-a9470afad95c",
        "colab": {
          "base_uri": "https://localhost:8080/",
          "height": 34
        }
      },
      "source": [
        "test_pos_distances, test_neg_distances = get_test_acc()"
      ],
      "execution_count": 32,
      "outputs": [
        {
          "output_type": "stream",
          "text": [
            "Test sensitivity: 1.0  Test specificity: 0.9592592592592593\n"
          ],
          "name": "stdout"
        }
      ]
    },
    {
      "cell_type": "code",
      "metadata": {
        "id": "-dswNOcG15-j",
        "colab_type": "code",
        "outputId": "41b02852-ccc1-4388-ee4b-96dfa0f43047",
        "colab": {
          "base_uri": "https://localhost:8080/",
          "height": 281
        }
      },
      "source": [
        "plt.hist(train_pos_distances, density=True, label='positive distances')\n",
        "plt.hist(train_neg_distances, density=True, label='negative distances')\n",
        "plt.title('Train accuracy')\n",
        "plt.legend()\n",
        "plt.show()"
      ],
      "execution_count": 33,
      "outputs": [
        {
          "output_type": "display_data",
          "data": {
            "image/png": "[encoded data removed]",
            "text/plain": [
              "<Figure size 432x288 with 1 Axes>"
            ]
          },
          "metadata": {
            "tags": [],
            "needs_background": "light"
          }
        }
      ]
    },
    {
      "cell_type": "code",
      "metadata": {
        "id": "dPCdiZDs2gGG",
        "colab_type": "code",
        "outputId": "0323f752-3157-48af-b75e-ef3e299e4854",
        "colab": {
          "base_uri": "https://localhost:8080/",
          "height": 281
        }
      },
      "source": [
        "plt.hist(test_pos_distances, density=True, label='positive distances')\n",
        "plt.hist(test_neg_distances, density=True, label='negative distances')\n",
        "plt.title('Test accuracy')\n",
        "plt.legend()\n",
        "plt.show()"
      ],
      "execution_count": 34,
      "outputs": [
        {
          "output_type": "display_data",
          "data": {
            "image/png": "[encoded data removed]",
            "text/plain": [
              "<Figure size 432x288 with 1 Axes>"
            ]
          },
          "metadata": {
            "tags": [],
            "needs_background": "light"
          }
        }
      ]
    }
  ]
}