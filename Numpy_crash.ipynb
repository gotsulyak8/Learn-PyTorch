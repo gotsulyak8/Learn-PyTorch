{
  "nbformat": 4,
  "nbformat_minor": 0,
  "metadata": {
    "colab": {
      "name": "Numpy crash.ipynb",
      "provenance": []
    },
    "kernelspec": {
      "name": "python3",
      "display_name": "Python 3"
    }
  },
  "cells": [
    {
      "cell_type": "code",
      "metadata": {
        "id": "bTN6IxO-HB9E",
        "colab_type": "code",
        "colab": {}
      },
      "source": [
        "import numpy as np"
      ],
      "execution_count": 0,
      "outputs": []
    },
    {
      "cell_type": "markdown",
      "metadata": {
        "id": "XcKWiLiLKdKi",
        "colab_type": "text"
      },
      "source": [
        "**Arrays and Lists**"
      ]
    },
    {
      "cell_type": "code",
      "metadata": {
        "id": "S44kcnTeHh2k",
        "colab_type": "code",
        "outputId": "e9fff8f1-b0a8-4715-ea31-882411bc10b0",
        "colab": {
          "base_uri": "https://localhost:8080/",
          "height": 34
        }
      },
      "source": [
        "# Python way\n",
        "list_two = list(range(1, 4))\n",
        "list_three = list(range(1, 4))\n",
        "list_sum = []\n",
        "\n",
        "for index in range(3):\n",
        "  list_two[index] = list_two[index] ** 2\n",
        "  list_three[index] = list_three[index] ** 3\n",
        "  list_sum.append(list_two[index] + list_three[index])\n",
        "print(list_sum)  "
      ],
      "execution_count": 0,
      "outputs": [
        {
          "output_type": "stream",
          "text": [
            "[2, 12, 36]\n"
          ],
          "name": "stdout"
        }
      ]
    },
    {
      "cell_type": "code",
      "metadata": {
        "id": "_uu16-aFHh5A",
        "colab_type": "code",
        "outputId": "f358faee-ef7b-4f74-f654-37919eea001b",
        "colab": {
          "base_uri": "https://localhost:8080/",
          "height": 34
        }
      },
      "source": [
        "# Numpy way\n",
        "array_two = np.arange(1, 4) ** 2\n",
        "array_three = np.arange(1, 4) ** 3\n",
        "print(array_two + array_three)"
      ],
      "execution_count": 0,
      "outputs": [
        {
          "output_type": "stream",
          "text": [
            "[ 2 12 36]\n"
          ],
          "name": "stdout"
        }
      ]
    },
    {
      "cell_type": "code",
      "metadata": {
        "id": "lx3tUyz5JYOb",
        "colab_type": "code",
        "outputId": "17b913c8-c62c-4662-ec21-afccd08991ad",
        "colab": {
          "base_uri": "https://localhost:8080/",
          "height": 34
        }
      },
      "source": [
        "np.power(np.array([1, 2, 3]), 4)"
      ],
      "execution_count": 0,
      "outputs": [
        {
          "output_type": "execute_result",
          "data": {
            "text/plain": [
              "array([ 1, 16, 81])"
            ]
          },
          "metadata": {
            "tags": []
          },
          "execution_count": 4
        }
      ]
    },
    {
      "cell_type": "code",
      "metadata": {
        "id": "50etZ0UOJsQI",
        "colab_type": "code",
        "outputId": "6fecc692-1d3d-4134-c47b-25d3c0864c52",
        "colab": {
          "base_uri": "https://localhost:8080/",
          "height": 34
        }
      },
      "source": [
        "np.negative(np.array([1, 2, 3]))"
      ],
      "execution_count": 0,
      "outputs": [
        {
          "output_type": "execute_result",
          "data": {
            "text/plain": [
              "array([-1, -2, -3])"
            ]
          },
          "metadata": {
            "tags": []
          },
          "execution_count": 5
        }
      ]
    },
    {
      "cell_type": "code",
      "metadata": {
        "id": "bRClqFVXJ0va",
        "colab_type": "code",
        "outputId": "86f2c6a7-3250-4185-b118-59f7932992ef",
        "colab": {
          "base_uri": "https://localhost:8080/",
          "height": 34
        }
      },
      "source": [
        "np.exp(np.array([1, 2, 3]))"
      ],
      "execution_count": 0,
      "outputs": [
        {
          "output_type": "execute_result",
          "data": {
            "text/plain": [
              "array([ 2.71828183,  7.3890561 , 20.08553692])"
            ]
          },
          "metadata": {
            "tags": []
          },
          "execution_count": 6
        }
      ]
    },
    {
      "cell_type": "code",
      "metadata": {
        "id": "ZcDQ6uwWJ9YN",
        "colab_type": "code",
        "outputId": "a8443ab5-d18a-4182-f001-876cd539b759",
        "colab": {
          "base_uri": "https://localhost:8080/",
          "height": 34
        }
      },
      "source": [
        "np.log(np.array([1, 2, 3]))"
      ],
      "execution_count": 0,
      "outputs": [
        {
          "output_type": "execute_result",
          "data": {
            "text/plain": [
              "array([0.        , 0.69314718, 1.09861229])"
            ]
          },
          "metadata": {
            "tags": []
          },
          "execution_count": 7
        }
      ]
    },
    {
      "cell_type": "code",
      "metadata": {
        "id": "BIKhdjqrKG4r",
        "colab_type": "code",
        "outputId": "88f9a5be-bb08-4921-a579-132e6303f66b",
        "colab": {
          "base_uri": "https://localhost:8080/",
          "height": 34
        }
      },
      "source": [
        "np.sin(np.array([1, 2, 3]))"
      ],
      "execution_count": 0,
      "outputs": [
        {
          "output_type": "execute_result",
          "data": {
            "text/plain": [
              "array([0.84147098, 0.90929743, 0.14112001])"
            ]
          },
          "metadata": {
            "tags": []
          },
          "execution_count": 8
        }
      ]
    },
    {
      "cell_type": "markdown",
      "metadata": {
        "id": "ouwgG_3PIeK9",
        "colab_type": "text"
      },
      "source": [
        "**Multidimesnional ararays**"
      ]
    },
    {
      "cell_type": "code",
      "metadata": {
        "id": "Fd263DyzIuws",
        "colab_type": "code",
        "outputId": "69bb744d-2bad-44ea-e226-b471852f0750",
        "colab": {
          "base_uri": "https://localhost:8080/",
          "height": 84
        }
      },
      "source": [
        "x = np.arange(3)\n",
        "y = np.arange(3)\n",
        "z = np.arange(3)\n",
        "\n",
        "multi_array = np.array([x, y, z])\n",
        "print(multi_array)\n",
        "print(multi_array.shape)"
      ],
      "execution_count": 0,
      "outputs": [
        {
          "output_type": "stream",
          "text": [
            "[[0 1 2]\n",
            " [0 1 2]\n",
            " [0 1 2]]\n",
            "(3, 3)\n"
          ],
          "name": "stdout"
        }
      ]
    },
    {
      "cell_type": "code",
      "metadata": {
        "id": "Rn690dIcJ1DA",
        "colab_type": "code",
        "outputId": "63229ce5-de9d-4707-ed4f-fc3bd0873177",
        "colab": {
          "base_uri": "https://localhost:8080/",
          "height": 168
        }
      },
      "source": [
        "w = np.linspace(1, 10, 50) # start, end, amount of samples between start and end\n",
        "print(w)"
      ],
      "execution_count": 0,
      "outputs": [
        {
          "output_type": "stream",
          "text": [
            "[ 1.          1.18367347  1.36734694  1.55102041  1.73469388  1.91836735\n",
            "  2.10204082  2.28571429  2.46938776  2.65306122  2.83673469  3.02040816\n",
            "  3.20408163  3.3877551   3.57142857  3.75510204  3.93877551  4.12244898\n",
            "  4.30612245  4.48979592  4.67346939  4.85714286  5.04081633  5.2244898\n",
            "  5.40816327  5.59183673  5.7755102   5.95918367  6.14285714  6.32653061\n",
            "  6.51020408  6.69387755  6.87755102  7.06122449  7.24489796  7.42857143\n",
            "  7.6122449   7.79591837  7.97959184  8.16326531  8.34693878  8.53061224\n",
            "  8.71428571  8.89795918  9.08163265  9.26530612  9.44897959  9.63265306\n",
            "  9.81632653 10.        ]\n"
          ],
          "name": "stdout"
        }
      ]
    },
    {
      "cell_type": "code",
      "metadata": {
        "id": "OhS6u7KsKXug",
        "colab_type": "code",
        "outputId": "689c9a41-3ed9-47eb-b6ec-c33d0a735606",
        "colab": {
          "base_uri": "https://localhost:8080/",
          "height": 34
        }
      },
      "source": [
        "b = np.linspace(1, 30, 3, True) # False - end number is excluded\n",
        "b"
      ],
      "execution_count": 0,
      "outputs": [
        {
          "output_type": "execute_result",
          "data": {
            "text/plain": [
              "array([ 1. , 15.5, 30. ])"
            ]
          },
          "metadata": {
            "tags": []
          },
          "execution_count": 19
        }
      ]
    },
    {
      "cell_type": "code",
      "metadata": {
        "id": "SXskn2e3KtSP",
        "colab_type": "code",
        "outputId": "600ca45e-8ba0-436c-e7ab-3ecf9a20896c",
        "colab": {
          "base_uri": "https://localhost:8080/",
          "height": 50
        }
      },
      "source": [
        "b = np.arange(1, 30)\n",
        "b"
      ],
      "execution_count": 0,
      "outputs": [
        {
          "output_type": "execute_result",
          "data": {
            "text/plain": [
              "array([ 1,  2,  3,  4,  5,  6,  7,  8,  9, 10, 11, 12, 13, 14, 15, 16, 17,\n",
              "       18, 19, 20, 21, 22, 23, 24, 25, 26, 27, 28, 29])"
            ]
          },
          "metadata": {
            "tags": []
          },
          "execution_count": 17
        }
      ]
    },
    {
      "cell_type": "code",
      "metadata": {
        "id": "XY-bWJtlLDnF",
        "colab_type": "code",
        "outputId": "87702cd4-8c15-48f9-a4de-b1b8d5c521a9",
        "colab": {
          "base_uri": "https://localhost:8080/",
          "height": 101
        }
      },
      "source": [
        "x = np.arange(3)\n",
        "y = np.arange(3, 6)\n",
        "z = np.arange(6, 9)\n",
        "\n",
        "multi_array = np.array([x, y, z])\n",
        "print(multi_array)\n",
        "print(multi_array.shape)\n",
        "multi_array[1, 2] # [n, m]\n",
        "print(multi_array.dtype)"
      ],
      "execution_count": 0,
      "outputs": [
        {
          "output_type": "stream",
          "text": [
            "[[0 1 2]\n",
            " [3 4 5]\n",
            " [6 7 8]]\n",
            "(3, 3)\n",
            "int64\n"
          ],
          "name": "stdout"
        }
      ]
    },
    {
      "cell_type": "code",
      "metadata": {
        "id": "q1MTOQCrMBUL",
        "colab_type": "code",
        "outputId": "592f386d-6286-466c-ab41-14005ecfdf48",
        "colab": {
          "base_uri": "https://localhost:8080/",
          "height": 34
        }
      },
      "source": [
        "multi_array = np.array([x, y, z], dtype=np.int16)\n",
        "print(multi_array.dtype)"
      ],
      "execution_count": 0,
      "outputs": [
        {
          "output_type": "stream",
          "text": [
            "int16\n"
          ],
          "name": "stdout"
        }
      ]
    },
    {
      "cell_type": "markdown",
      "metadata": {
        "id": "Bo-d8c2CMx5l",
        "colab_type": "text"
      },
      "source": [
        "**1D Slicing**"
      ]
    },
    {
      "cell_type": "code",
      "metadata": {
        "id": "WbfViGIuM3Ek",
        "colab_type": "code",
        "outputId": "7de719a9-f109-4545-88d1-ad8d9fc784f5",
        "colab": {
          "base_uri": "https://localhost:8080/",
          "height": 34
        }
      },
      "source": [
        "x = np.arange(1, 10)\n",
        "print(x)"
      ],
      "execution_count": 0,
      "outputs": [
        {
          "output_type": "stream",
          "text": [
            "[1 2 3 4 5 6 7 8 9]\n"
          ],
          "name": "stdout"
        }
      ]
    },
    {
      "cell_type": "code",
      "metadata": {
        "id": "6EzA2u-GNNOe",
        "colab_type": "code",
        "outputId": "e5dd573a-a262-46cb-8ea7-62ba965eaf95",
        "colab": {
          "base_uri": "https://localhost:8080/",
          "height": 34
        }
      },
      "source": [
        "print(x[2:7])"
      ],
      "execution_count": 0,
      "outputs": [
        {
          "output_type": "stream",
          "text": [
            "[3 4 5 6 7]\n"
          ],
          "name": "stdout"
        }
      ]
    },
    {
      "cell_type": "code",
      "metadata": {
        "id": "2vrKc9QjNZv7",
        "colab_type": "code",
        "outputId": "20ebdb74-fae4-45f1-fea9-373adf82a772",
        "colab": {
          "base_uri": "https://localhost:8080/",
          "height": 34
        }
      },
      "source": [
        "print(x[2:7:2])"
      ],
      "execution_count": 0,
      "outputs": [
        {
          "output_type": "stream",
          "text": [
            "[3 5 7]\n"
          ],
          "name": "stdout"
        }
      ]
    },
    {
      "cell_type": "code",
      "metadata": {
        "id": "WB89CM9SNeu3",
        "colab_type": "code",
        "outputId": "f3a51939-8e0c-4723-b0de-68a79459538a",
        "colab": {
          "base_uri": "https://localhost:8080/",
          "height": 34
        }
      },
      "source": [
        "print(x[:7])"
      ],
      "execution_count": 0,
      "outputs": [
        {
          "output_type": "stream",
          "text": [
            "[1 2 3 4 5 6 7]\n"
          ],
          "name": "stdout"
        }
      ]
    },
    {
      "cell_type": "markdown",
      "metadata": {
        "id": "8EmYRwEzN4hj",
        "colab_type": "text"
      },
      "source": [
        "**Reshaping**"
      ]
    },
    {
      "cell_type": "code",
      "metadata": {
        "id": "zXtvNcxmOAE_",
        "colab_type": "code",
        "outputId": "16286f24-a242-4a1a-ab78-7452ce3eeb63",
        "colab": {
          "base_uri": "https://localhost:8080/",
          "height": 67
        }
      },
      "source": [
        "x = np.arange(9).reshape(3, 3) # (3, 5) -> error because we have 9 not 15 elements\n",
        "print(x)"
      ],
      "execution_count": 0,
      "outputs": [
        {
          "output_type": "stream",
          "text": [
            "[[0 1 2]\n",
            " [3 4 5]\n",
            " [6 7 8]]\n"
          ],
          "name": "stdout"
        }
      ]
    },
    {
      "cell_type": "code",
      "metadata": {
        "id": "PCmRpD4WOxsJ",
        "colab_type": "code",
        "outputId": "953ac8cb-1a03-4a96-f79d-8c16aff25d2f",
        "colab": {
          "base_uri": "https://localhost:8080/",
          "height": 134
        }
      },
      "source": [
        "x = np.arange(18).reshape(2, 3, 3) # (3, 3, 2)\n",
        "print(x)"
      ],
      "execution_count": 0,
      "outputs": [
        {
          "output_type": "stream",
          "text": [
            "[[[ 0  1  2]\n",
            "  [ 3  4  5]\n",
            "  [ 6  7  8]]\n",
            "\n",
            " [[ 9 10 11]\n",
            "  [12 13 14]\n",
            "  [15 16 17]]]\n"
          ],
          "name": "stdout"
        }
      ]
    },
    {
      "cell_type": "markdown",
      "metadata": {
        "id": "_bl_SHg0PTrk",
        "colab_type": "text"
      },
      "source": [
        "**Multidimensional slicing**"
      ]
    },
    {
      "cell_type": "code",
      "metadata": {
        "id": "WgTIHFkXPXqm",
        "colab_type": "code",
        "outputId": "0a207f0f-4cc6-42f6-9094-7097ecfd325f",
        "colab": {
          "base_uri": "https://localhost:8080/",
          "height": 151
        }
      },
      "source": [
        "x = np.arange(18).reshape(3, 2, 3)\n",
        "print(x)\n",
        "print(x[1, 1, 1]) # imagine dimensions like towers"
      ],
      "execution_count": 0,
      "outputs": [
        {
          "output_type": "stream",
          "text": [
            "[[[ 0  1  2]\n",
            "  [ 3  4  5]]\n",
            "\n",
            " [[ 6  7  8]\n",
            "  [ 9 10 11]]\n",
            "\n",
            " [[12 13 14]\n",
            "  [15 16 17]]]\n"
          ],
          "name": "stdout"
        }
      ]
    },
    {
      "cell_type": "code",
      "metadata": {
        "id": "megAA4WVQVMv",
        "colab_type": "code",
        "outputId": "bc7e0c8d-5b77-403c-cf87-6a87a791e48e",
        "colab": {
          "base_uri": "https://localhost:8080/",
          "height": 50
        }
      },
      "source": [
        "print(x[1, 0:2, 0:3]) # tower, range of rows, range of columns x[1, :2, :3]"
      ],
      "execution_count": 0,
      "outputs": [
        {
          "output_type": "stream",
          "text": [
            "[[ 6  7  8]\n",
            " [ 9 10 11]]\n"
          ],
          "name": "stdout"
        }
      ]
    },
    {
      "cell_type": "code",
      "metadata": {
        "id": "MaFCGcMSRRqh",
        "colab_type": "code",
        "outputId": "8fb01f31-520b-4d4b-a26f-b9e6f674d53e",
        "colab": {
          "base_uri": "https://localhost:8080/",
          "height": 50
        }
      },
      "source": [
        "print(x[1, ...])"
      ],
      "execution_count": 0,
      "outputs": [
        {
          "output_type": "stream",
          "text": [
            "[[ 6  7  8]\n",
            " [ 9 10 11]]\n"
          ],
          "name": "stdout"
        }
      ]
    },
    {
      "cell_type": "code",
      "metadata": {
        "id": "Xc0XHiazRfra",
        "colab_type": "code",
        "outputId": "6666d530-41ae-48dd-e28c-3a1ccd35870a",
        "colab": {
          "base_uri": "https://localhost:8080/",
          "height": 34
        }
      },
      "source": [
        "print(x[:, 0, 0])"
      ],
      "execution_count": 0,
      "outputs": [
        {
          "output_type": "stream",
          "text": [
            "[ 0  6 12]\n"
          ],
          "name": "stdout"
        }
      ]
    },
    {
      "cell_type": "code",
      "metadata": {
        "id": "7K_bUQUYRqlF",
        "colab_type": "code",
        "outputId": "d76f4133-857a-4057-e115-fd0d6dba8b48",
        "colab": {
          "base_uri": "https://localhost:8080/",
          "height": 50
        }
      },
      "source": [
        "print(x[1, :2, :3:2]) # every second element in each row"
      ],
      "execution_count": 0,
      "outputs": [
        {
          "output_type": "stream",
          "text": [
            "[[ 6  8]\n",
            " [ 9 11]]\n"
          ],
          "name": "stdout"
        }
      ]
    },
    {
      "cell_type": "code",
      "metadata": {
        "id": "FAL3nEDfR4X3",
        "colab_type": "code",
        "outputId": "91fc8b8f-bcfe-457e-b353-37aeb603e3c3",
        "colab": {
          "base_uri": "https://localhost:8080/",
          "height": 202
        }
      },
      "source": [
        "comparison_operation = x > 5\n",
        "print(comparison_operation)\n",
        "print(x[comparison_operation]) # x[x > 5]\n",
        "print(x.max())\n",
        "print(x.min())"
      ],
      "execution_count": 0,
      "outputs": [
        {
          "output_type": "stream",
          "text": [
            "[[[False False False]\n",
            "  [False False False]]\n",
            "\n",
            " [[ True  True  True]\n",
            "  [ True  True  True]]\n",
            "\n",
            " [[ True  True  True]\n",
            "  [ True  True  True]]]\n",
            "[ 6  7  8  9 10 11 12 13 14 15 16 17]\n",
            "17\n",
            "0\n"
          ],
          "name": "stdout"
        }
      ]
    },
    {
      "cell_type": "markdown",
      "metadata": {
        "id": "cWbKuXsLSjCE",
        "colab_type": "text"
      },
      "source": [
        "**Manipulating array shapes**"
      ]
    },
    {
      "cell_type": "code",
      "metadata": {
        "id": "b5Ad6oaISmtu",
        "colab_type": "code",
        "outputId": "c93f9e82-b2e8-4e24-85ab-acc6e7049f98",
        "colab": {
          "base_uri": "https://localhost:8080/",
          "height": 67
        }
      },
      "source": [
        "x = np.arange(9).reshape(3, 3)\n",
        "print(x)"
      ],
      "execution_count": 0,
      "outputs": [
        {
          "output_type": "stream",
          "text": [
            "[[0 1 2]\n",
            " [3 4 5]\n",
            " [6 7 8]]\n"
          ],
          "name": "stdout"
        }
      ]
    },
    {
      "cell_type": "code",
      "metadata": {
        "id": "7TzjFS84TkZq",
        "colab_type": "code",
        "outputId": "b2839815-2baf-4deb-da34-33639ff47108",
        "colab": {
          "base_uri": "https://localhost:8080/",
          "height": 84
        }
      },
      "source": [
        "ravelled_array = x.ravel() # returns a view of the original array (affect original array)\n",
        "ravelled_array[2] = 10000\n",
        "print(ravelled_array)\n",
        "print(x)"
      ],
      "execution_count": 0,
      "outputs": [
        {
          "output_type": "stream",
          "text": [
            "[    0     1 10000     3     4     5     6     7     8]\n",
            "[[    0     1 10000]\n",
            " [    3     4     5]\n",
            " [    6     7     8]]\n"
          ],
          "name": "stdout"
        }
      ]
    },
    {
      "cell_type": "code",
      "metadata": {
        "id": "jlycdf03Ts8c",
        "colab_type": "code",
        "outputId": "bfbe7a87-361d-4846-ffbb-99acebde6ae1",
        "colab": {
          "base_uri": "https://localhost:8080/",
          "height": 84
        }
      },
      "source": [
        "flattened_array = x.flatten() # returns a copy and allocates new memory\n",
        "flattened_array[2] = 10000\n",
        "print(flattened_array)\n",
        "print(x)"
      ],
      "execution_count": 0,
      "outputs": [
        {
          "output_type": "stream",
          "text": [
            "[    0     1 10000     3     4     5     6     7     8]\n",
            "[[0 1 2]\n",
            " [3 4 5]\n",
            " [6 7 8]]\n"
          ],
          "name": "stdout"
        }
      ]
    },
    {
      "cell_type": "code",
      "metadata": {
        "id": "X4Fmd_FNU0-H",
        "colab_type": "code",
        "outputId": "7af4dc30-7ba7-4427-b798-98c3a6378964",
        "colab": {
          "base_uri": "https://localhost:8080/",
          "height": 67
        }
      },
      "source": [
        "y = np.arange(9)\n",
        "y.shape = [3, 3]\n",
        "print(y)"
      ],
      "execution_count": 0,
      "outputs": [
        {
          "output_type": "stream",
          "text": [
            "[[0 1 2]\n",
            " [3 4 5]\n",
            " [6 7 8]]\n"
          ],
          "name": "stdout"
        }
      ]
    },
    {
      "cell_type": "code",
      "metadata": {
        "id": "dW6uENDcU-XK",
        "colab_type": "code",
        "outputId": "ced3a07d-0f88-4b40-faf7-b5c7901a5083",
        "colab": {
          "base_uri": "https://localhost:8080/",
          "height": 67
        }
      },
      "source": [
        "print(y.transpose()) # y.T"
      ],
      "execution_count": 0,
      "outputs": [
        {
          "output_type": "stream",
          "text": [
            "[[0 3 6]\n",
            " [1 4 7]\n",
            " [2 5 8]]\n"
          ],
          "name": "stdout"
        }
      ]
    },
    {
      "cell_type": "code",
      "metadata": {
        "id": "7PnaAYfyVTVx",
        "colab_type": "code",
        "outputId": "5f3643a9-5c60-4a5e-e256-f0d03633cf8c",
        "colab": {
          "base_uri": "https://localhost:8080/",
          "height": 118
        }
      },
      "source": [
        "print(np.resize(y, (6, 6)))"
      ],
      "execution_count": 0,
      "outputs": [
        {
          "output_type": "stream",
          "text": [
            "[[0 1 2 3 4 5]\n",
            " [6 7 8 0 1 2]\n",
            " [3 4 5 6 7 8]\n",
            " [0 1 2 3 4 5]\n",
            " [6 7 8 0 1 2]\n",
            " [3 4 5 6 7 8]]\n"
          ],
          "name": "stdout"
        }
      ]
    },
    {
      "cell_type": "code",
      "metadata": {
        "id": "4iQ9sqgwVcMl",
        "colab_type": "code",
        "outputId": "f93fc9cc-138b-42bd-d538-ecd0377f6815",
        "colab": {
          "base_uri": "https://localhost:8080/",
          "height": 34
        }
      },
      "source": [
        "print(np.zeros((6,), dtype=int))"
      ],
      "execution_count": 0,
      "outputs": [
        {
          "output_type": "stream",
          "text": [
            "[0 0 0 0 0 0]\n"
          ],
          "name": "stdout"
        }
      ]
    },
    {
      "cell_type": "code",
      "metadata": {
        "id": "CKiclVDOVsfN",
        "colab_type": "code",
        "outputId": "72e038ad-25d7-434a-9b8e-693b8e9d7911",
        "colab": {
          "base_uri": "https://localhost:8080/",
          "height": 50
        }
      },
      "source": [
        "print(np.zeros((2, 3)))"
      ],
      "execution_count": 0,
      "outputs": [
        {
          "output_type": "stream",
          "text": [
            "[[0. 0. 0.]\n",
            " [0. 0. 0.]]\n"
          ],
          "name": "stdout"
        }
      ]
    },
    {
      "cell_type": "code",
      "metadata": {
        "id": "4kbHdgDqVwuW",
        "colab_type": "code",
        "outputId": "afd6e229-b368-40be-b554-7c595070202a",
        "colab": {
          "base_uri": "https://localhost:8080/",
          "height": 50
        }
      },
      "source": [
        "print(np.ones((2, 3), dtype=int))"
      ],
      "execution_count": 0,
      "outputs": [
        {
          "output_type": "stream",
          "text": [
            "[[1 1 1]\n",
            " [1 1 1]]\n"
          ],
          "name": "stdout"
        }
      ]
    },
    {
      "cell_type": "code",
      "metadata": {
        "id": "qZisaf7uV5fI",
        "colab_type": "code",
        "outputId": "2702ae10-b10e-4eb7-e379-39d556d64f46",
        "colab": {
          "base_uri": "https://localhost:8080/",
          "height": 67
        }
      },
      "source": [
        "print(np.eye(3))"
      ],
      "execution_count": 0,
      "outputs": [
        {
          "output_type": "stream",
          "text": [
            "[[1. 0. 0.]\n",
            " [0. 1. 0.]\n",
            " [0. 0. 1.]]\n"
          ],
          "name": "stdout"
        }
      ]
    },
    {
      "cell_type": "code",
      "metadata": {
        "id": "uEYGehvAWDcX",
        "colab_type": "code",
        "outputId": "7a8e9777-6daa-42f7-abd4-b5f07c37e204",
        "colab": {
          "base_uri": "https://localhost:8080/",
          "height": 84
        }
      },
      "source": [
        "print(np.random.rand(4, 4)) # 0 - 1"
      ],
      "execution_count": 0,
      "outputs": [
        {
          "output_type": "stream",
          "text": [
            "[[0.5106284  0.20979511 0.8726291  0.49361134]\n",
            " [0.95899509 0.54983046 0.73743965 0.28403544]\n",
            " [0.24164064 0.29557322 0.71793774 0.99418372]\n",
            " [0.39200658 0.33322016 0.733547   0.39936663]]\n"
          ],
          "name": "stdout"
        }
      ]
    },
    {
      "cell_type": "markdown",
      "metadata": {
        "id": "9mbSGtINWUpj",
        "colab_type": "text"
      },
      "source": [
        "**Matrix multiplication**"
      ]
    },
    {
      "cell_type": "code",
      "metadata": {
        "id": "Yj-HyVYnWaeO",
        "colab_type": "code",
        "outputId": "bf27771c-3943-4edd-dca8-70db659fddb8",
        "colab": {
          "base_uri": "https://localhost:8080/",
          "height": 50
        }
      },
      "source": [
        "mat_a = np.matrix([0, 3, 5, 5, 5, 2]).reshape(2, 3)\n",
        "mat_a"
      ],
      "execution_count": 0,
      "outputs": [
        {
          "output_type": "execute_result",
          "data": {
            "text/plain": [
              "matrix([[0, 3, 5],\n",
              "        [5, 5, 2]])"
            ]
          },
          "metadata": {
            "tags": []
          },
          "execution_count": 80
        }
      ]
    },
    {
      "cell_type": "code",
      "metadata": {
        "id": "rd_L8sNgW8rz",
        "colab_type": "code",
        "outputId": "69a94d1d-e0a8-41a7-9bb3-aec0106d8aec",
        "colab": {
          "base_uri": "https://localhost:8080/",
          "height": 67
        }
      },
      "source": [
        "mat_b = np.matrix([3, 4, 3, -2, 4, -2]).reshape(3, 2)\n",
        "mat_b"
      ],
      "execution_count": 0,
      "outputs": [
        {
          "output_type": "execute_result",
          "data": {
            "text/plain": [
              "matrix([[ 3,  4],\n",
              "        [ 3, -2],\n",
              "        [ 4, -2]])"
            ]
          },
          "metadata": {
            "tags": []
          },
          "execution_count": 82
        }
      ]
    },
    {
      "cell_type": "code",
      "metadata": {
        "id": "kngT0MMiXJcl",
        "colab_type": "code",
        "outputId": "3c87d640-0f71-4c2b-a1e1-9de24cc5796e",
        "colab": {
          "base_uri": "https://localhost:8080/",
          "height": 50
        }
      },
      "source": [
        "mat_a * mat_b # same result with np.array"
      ],
      "execution_count": 0,
      "outputs": [
        {
          "output_type": "execute_result",
          "data": {
            "text/plain": [
              "matrix([[ 29, -16],\n",
              "        [ 38,   6]])"
            ]
          },
          "metadata": {
            "tags": []
          },
          "execution_count": 83
        }
      ]
    },
    {
      "cell_type": "code",
      "metadata": {
        "id": "c7khcPHmXOlA",
        "colab_type": "code",
        "outputId": "6083b06c-40ac-45b9-9e03-28f887e93867",
        "colab": {
          "base_uri": "https://localhost:8080/",
          "height": 50
        }
      },
      "source": [
        "product = np.matmul(mat_a, mat_b) # same result with np.array\n",
        "product"
      ],
      "execution_count": 0,
      "outputs": [
        {
          "output_type": "execute_result",
          "data": {
            "text/plain": [
              "matrix([[ 29, -16],\n",
              "        [ 38,   6]])"
            ]
          },
          "metadata": {
            "tags": []
          },
          "execution_count": 85
        }
      ]
    },
    {
      "cell_type": "code",
      "metadata": {
        "id": "yoPzuAibXisg",
        "colab_type": "code",
        "outputId": "08efcd2c-6301-4a56-87d4-a8eb7bb53fb8",
        "colab": {
          "base_uri": "https://localhost:8080/",
          "height": 50
        }
      },
      "source": [
        "mat_a @ mat_b"
      ],
      "execution_count": 0,
      "outputs": [
        {
          "output_type": "execute_result",
          "data": {
            "text/plain": [
              "matrix([[ 29, -16],\n",
              "        [ 38,   6]])"
            ]
          },
          "metadata": {
            "tags": []
          },
          "execution_count": 86
        }
      ]
    },
    {
      "cell_type": "markdown",
      "metadata": {
        "id": "Jg8MJ-k5XntD",
        "colab_type": "text"
      },
      "source": [
        "**Stacking**"
      ]
    },
    {
      "cell_type": "code",
      "metadata": {
        "id": "LNh2LlvEXp6y",
        "colab_type": "code",
        "outputId": "81870fa1-80e8-4e76-bc6b-c879695fa68c",
        "colab": {
          "base_uri": "https://localhost:8080/",
          "height": 50
        }
      },
      "source": [
        "x = np.arange(4).reshape(2, 2)\n",
        "print(x)"
      ],
      "execution_count": 0,
      "outputs": [
        {
          "output_type": "stream",
          "text": [
            "[[0 1]\n",
            " [2 3]]\n"
          ],
          "name": "stdout"
        }
      ]
    },
    {
      "cell_type": "code",
      "metadata": {
        "id": "eHMZL2l4X3Bk",
        "colab_type": "code",
        "outputId": "ef849c00-918e-465f-80ae-d6725352c8cd",
        "colab": {
          "base_uri": "https://localhost:8080/",
          "height": 50
        }
      },
      "source": [
        "y = np.arange(4, 8).reshape(2, 2)\n",
        "print(y)"
      ],
      "execution_count": 0,
      "outputs": [
        {
          "output_type": "stream",
          "text": [
            "[[4 5]\n",
            " [6 7]]\n"
          ],
          "name": "stdout"
        }
      ]
    },
    {
      "cell_type": "code",
      "metadata": {
        "id": "JeK4bEkzX9oD",
        "colab_type": "code",
        "outputId": "9bab3cbe-4016-4e01-f9dc-02518c7b439c",
        "colab": {
          "base_uri": "https://localhost:8080/",
          "height": 50
        }
      },
      "source": [
        "z = np.hstack((x, y)) # horizontal stacking (with same shape[0])\n",
        "print(z)"
      ],
      "execution_count": 0,
      "outputs": [
        {
          "output_type": "stream",
          "text": [
            "[[0 1 4 5]\n",
            " [2 3 6 7]]\n"
          ],
          "name": "stdout"
        }
      ]
    },
    {
      "cell_type": "code",
      "metadata": {
        "id": "5Y-WoGShYyXU",
        "colab_type": "code",
        "outputId": "5804d254-0a2c-413d-e9ef-3df284112229",
        "colab": {
          "base_uri": "https://localhost:8080/",
          "height": 50
        }
      },
      "source": [
        "x = np.arange(4).reshape(2, 2)\n",
        "print(x)"
      ],
      "execution_count": 0,
      "outputs": [
        {
          "output_type": "stream",
          "text": [
            "[[0 1]\n",
            " [2 3]]\n"
          ],
          "name": "stdout"
        }
      ]
    },
    {
      "cell_type": "code",
      "metadata": {
        "id": "UsPslHPhY0q5",
        "colab_type": "code",
        "outputId": "65c75baf-0496-41af-b7bb-983d881fd4f8",
        "colab": {
          "base_uri": "https://localhost:8080/",
          "height": 84
        }
      },
      "source": [
        "y = np.arange(8).reshape(4, 2)\n",
        "print(y)"
      ],
      "execution_count": 0,
      "outputs": [
        {
          "output_type": "stream",
          "text": [
            "[[0 1]\n",
            " [2 3]\n",
            " [4 5]\n",
            " [6 7]]\n"
          ],
          "name": "stdout"
        }
      ]
    },
    {
      "cell_type": "code",
      "metadata": {
        "id": "oy03Vk7qZA44",
        "colab_type": "code",
        "outputId": "96d3d9a2-b53b-450c-c311-82696dc6318b",
        "colab": {
          "base_uri": "https://localhost:8080/",
          "height": 118
        }
      },
      "source": [
        "z = np.vstack((x, y)) # vertical stacking (with same shape[1])\n",
        "print(z)"
      ],
      "execution_count": 0,
      "outputs": [
        {
          "output_type": "stream",
          "text": [
            "[[0 1]\n",
            " [2 3]\n",
            " [0 1]\n",
            " [2 3]\n",
            " [4 5]\n",
            " [6 7]]\n"
          ],
          "name": "stdout"
        }
      ]
    },
    {
      "cell_type": "code",
      "metadata": {
        "id": "gEhFmF6DZXrn",
        "colab_type": "code",
        "outputId": "a787be9d-cb01-47a6-aecb-02b1ad8d8fef",
        "colab": {
          "base_uri": "https://localhost:8080/",
          "height": 118
        }
      },
      "source": [
        "w = np.concatenate((x, y), axis=0) # axis=1 -> error\n",
        "print(w)"
      ],
      "execution_count": 0,
      "outputs": [
        {
          "output_type": "stream",
          "text": [
            "[[0 1]\n",
            " [2 3]\n",
            " [0 1]\n",
            " [2 3]\n",
            " [4 5]\n",
            " [6 7]]\n"
          ],
          "name": "stdout"
        }
      ]
    },
    {
      "cell_type": "code",
      "metadata": {
        "id": "hJRUNsjLZ6aB",
        "colab_type": "code",
        "outputId": "36e61dff-fca5-4a05-aefc-457ac71d8c7e",
        "colab": {
          "base_uri": "https://localhost:8080/",
          "height": 50
        }
      },
      "source": [
        "x = np.arange(4).reshape(2, 2)\n",
        "y = x*2\n",
        "print(y)"
      ],
      "execution_count": 0,
      "outputs": [
        {
          "output_type": "stream",
          "text": [
            "[[0 2]\n",
            " [4 6]]\n"
          ],
          "name": "stdout"
        }
      ]
    },
    {
      "cell_type": "code",
      "metadata": {
        "id": "B3x4RHnwaKAD",
        "colab_type": "code",
        "outputId": "89c8acf0-857b-43ca-ffd8-1b27da0f50d4",
        "colab": {
          "base_uri": "https://localhost:8080/",
          "height": 118
        }
      },
      "source": [
        "depth_stack = np.dstack((x, y)) # we added 3rd dimension\n",
        "print(depth_stack)\n",
        "print(depth_stack.shape)"
      ],
      "execution_count": 0,
      "outputs": [
        {
          "output_type": "stream",
          "text": [
            "[[[0 0]\n",
            "  [1 2]]\n",
            "\n",
            " [[2 4]\n",
            "  [3 6]]]\n",
            "(2, 2, 2)\n"
          ],
          "name": "stdout"
        }
      ]
    },
    {
      "cell_type": "code",
      "metadata": {
        "id": "vfTeOvw-a1PX",
        "colab_type": "code",
        "outputId": "460955a0-d9cd-4d80-b7c5-f5a60426ff8e",
        "colab": {
          "base_uri": "https://localhost:8080/",
          "height": 50
        }
      },
      "source": [
        "x = np.arange(4).reshape(2, 2)\n",
        "y = x*2\n",
        "print(y)"
      ],
      "execution_count": 0,
      "outputs": [
        {
          "output_type": "stream",
          "text": [
            "[[0 2]\n",
            " [4 6]]\n"
          ],
          "name": "stdout"
        }
      ]
    },
    {
      "cell_type": "code",
      "metadata": {
        "id": "Pxrm166va6GU",
        "colab_type": "code",
        "outputId": "f6da5c8b-036d-4057-950e-df1065135064",
        "colab": {
          "base_uri": "https://localhost:8080/",
          "height": 50
        }
      },
      "source": [
        "print(np.column_stack((x, y)))"
      ],
      "execution_count": 0,
      "outputs": [
        {
          "output_type": "stream",
          "text": [
            "[[0 1 0 2]\n",
            " [2 3 4 6]]\n"
          ],
          "name": "stdout"
        }
      ]
    },
    {
      "cell_type": "code",
      "metadata": {
        "id": "6eDVhZMfbEEV",
        "colab_type": "code",
        "outputId": "647ac71a-eced-44b9-9413-e6febe04c6c8",
        "colab": {
          "base_uri": "https://localhost:8080/",
          "height": 50
        }
      },
      "source": [
        "print(np.column_stack((x, y)) == np.hstack((x, y)))"
      ],
      "execution_count": 0,
      "outputs": [
        {
          "output_type": "stream",
          "text": [
            "[[ True  True  True  True]\n",
            " [ True  True  True  True]]\n"
          ],
          "name": "stdout"
        }
      ]
    },
    {
      "cell_type": "code",
      "metadata": {
        "id": "gi3qhJopbRk8",
        "colab_type": "code",
        "outputId": "38bc9ed5-6bf4-4270-cace-5b03c5db2a12",
        "colab": {
          "base_uri": "https://localhost:8080/",
          "height": 84
        }
      },
      "source": [
        "x = np.arange(4)\n",
        "y = x*2\n",
        "print(np.column_stack((x, y)))"
      ],
      "execution_count": 0,
      "outputs": [
        {
          "output_type": "stream",
          "text": [
            "[[0 0]\n",
            " [1 2]\n",
            " [2 4]\n",
            " [3 6]]\n"
          ],
          "name": "stdout"
        }
      ]
    },
    {
      "cell_type": "code",
      "metadata": {
        "id": "8ojKq9kEbZQu",
        "colab_type": "code",
        "outputId": "d03c5d37-f088-408f-a72c-88060dda1daa",
        "colab": {
          "base_uri": "https://localhost:8080/",
          "height": 34
        }
      },
      "source": [
        "print(np.hstack((x, y)))"
      ],
      "execution_count": 0,
      "outputs": [
        {
          "output_type": "stream",
          "text": [
            "[0 1 2 3 0 2 4 6]\n"
          ],
          "name": "stdout"
        }
      ]
    },
    {
      "cell_type": "code",
      "metadata": {
        "id": "uYwP3iSSbmNU",
        "colab_type": "code",
        "outputId": "20655c69-0d38-4538-a2f4-a771f0c7812f",
        "colab": {
          "base_uri": "https://localhost:8080/",
          "height": 84
        }
      },
      "source": [
        "x = np.arange(4).reshape(2, 2)\n",
        "y = x*2\n",
        "print(np.row_stack((x, y)))"
      ],
      "execution_count": 0,
      "outputs": [
        {
          "output_type": "stream",
          "text": [
            "[[0 1]\n",
            " [2 3]\n",
            " [0 2]\n",
            " [4 6]]\n"
          ],
          "name": "stdout"
        }
      ]
    },
    {
      "cell_type": "code",
      "metadata": {
        "id": "csQ-qYJJbw6B",
        "colab_type": "code",
        "outputId": "c7a886ce-a00f-44c7-faf8-18f11dbde1f0",
        "colab": {
          "base_uri": "https://localhost:8080/",
          "height": 84
        }
      },
      "source": [
        "print(np.row_stack((x, y)) == np.vstack((x, y)))"
      ],
      "execution_count": 0,
      "outputs": [
        {
          "output_type": "stream",
          "text": [
            "[[ True  True]\n",
            " [ True  True]\n",
            " [ True  True]\n",
            " [ True  True]]\n"
          ],
          "name": "stdout"
        }
      ]
    }
  ]
}